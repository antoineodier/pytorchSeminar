{
  "nbformat": 4,
  "nbformat_minor": 0,
  "metadata": {
    "colab": {
      "name": "03_Feedforward_de.ipynb",
      "provenance": [],
      "collapsed_sections": [
        "2WNcY2D2Cbui",
        "Jr7CgOdZIiIv"
      ],
      "include_colab_link": true
    },
    "kernelspec": {
      "name": "python3",
      "display_name": "Python 3"
    },
    "accelerator": "GPU"
  },
  "cells": [
    {
      "cell_type": "markdown",
      "metadata": {
        "id": "view-in-github",
        "colab_type": "text"
      },
      "source": [
        "<a href=\"https://colab.research.google.com/github/antoineodier/pytorchSeminar/blob/master/03_Feedforward_de.ipynb\" target=\"_parent\"><img src=\"https://colab.research.google.com/assets/colab-badge.svg\" alt=\"Open In Colab\"/></a>"
      ]
    },
    {
      "cell_type": "markdown",
      "metadata": {
        "colab_type": "text",
        "id": "2WNcY2D2Cbui"
      },
      "source": [
        "# Fashion MNIST Dataset"
      ]
    },
    {
      "cell_type": "markdown",
      "metadata": {
        "id": "nZ9cHlqrx7Yz",
        "colab_type": "text"
      },
      "source": [
        "### PyTorch Dataset & DataLoader\n",
        "\n",
        "PyTorch enthält einige Tools zur effizienten Datenprozessierung.\n",
        "- Mit Dataset und Dataloader kannst du die Datengenerierung inklusive **Preprocessing** und **Batching** so optimieren, dass nicht alle Daten gleichzeitig im Memory prozessiert werden müssen (**Generators**).\n",
        "- Ziel: Zufällige Batches von Listen aus Input-Tensoren\n",
        "\n",
        "Schritte:\n",
        "1. Auslesen der Daten als Liste von Inputs\n",
        "2. Mapping nach Float- bzw. Long-Tensoren\n",
        "3. Shuffling\n",
        "4. Batching\n",
        "\n",
        "Zuerst wird eine Dataset-Klasse definiert:\n",
        "- Die ist von **torch.utils.data.Dataset** abgeleitet ist. \n",
        "- Und ist eine abstrakte Klasse.\n",
        "- Du musst diese beiden  Methoden definieren:\n",
        "    - **\\_\\_len\\_\\_()** zur Berechnung der Size. \n",
        "    - **\\_\\_getitem\\_\\_()** gibt einen Datensatz zurück.\n"
      ]
    },
    {
      "cell_type": "code",
      "metadata": {
        "id": "bs_t87Eq7GQv",
        "colab_type": "code",
        "colab": {}
      },
      "source": [
        "# Example Dataset Class\n",
        "\n",
        "import os\n",
        "import torch\n",
        "from torch.utils.data import DataLoader, Dataset\n",
        "\n",
        "class CaliDataset(Dataset):\n",
        "    \"\"\"California Housing dataset.\"\"\"\n",
        "\n",
        "    def __init__(self, root_dir, data_file, preprocess=None):\n",
        "        # Here we load the dataset into a dataframe and transform the rows to word sequences\n",
        "        self.data_file = data_file  # file name\n",
        "        self.root_dir = root_dir  # root directory\n",
        "        self.preprocess = preprocess  # pass on an optional preprocessor\n",
        "        self.file_path = os.path.join(self.root_dir, self.data_file)\n",
        "        self.tar_path = 'CaliforniaHousing/cal_housing.data'\n",
        "        self.tarfile = tarfile.open(mode=\"r:gz\", name=self.file_path)\n",
        "        self.data = self.tarfile.extractfile(self.tar_path)\n",
        "        self.line_offsets = []\n",
        "        \n",
        "        offset = 0\n",
        "        for line in self.data.readlines(offset):\n",
        "            self.line_offsets.append(offset)\n",
        "            offset += len(line)\n",
        "        \n",
        "    def __len__(self):\n",
        "        return len(self.line_offsets)\n",
        "    \n",
        "    def __getitem__(self, idx):\n",
        "        self.data.seek(self.line_offsets[idx])\n",
        "        line = self.data.readline()\n",
        "        linel = [float(v) for v in str(line).strip(\"b\\'\\\\n\").split(',')]\n",
        "        \n",
        "        x = linel[2:-1]  # skip coordinates\n",
        "        y = linel[-1:]\n",
        "        if self.preprocess:  # use a preprocessor\n",
        "            x, y = self.preprocess(x, y)\n",
        "        return x, y"
      ],
      "execution_count": 0,
      "outputs": []
    },
    {
      "cell_type": "markdown",
      "metadata": {
        "id": "ZQy7gzZBBO18",
        "colab_type": "text"
      },
      "source": [
        "### **torch.utils.data.DataLoader** ist ein  Iterator mit folgenden Features:\n",
        "- Batching der Daten\n",
        "- Shuffling der Daten\n",
        "- Laden der Daten optional mit multiprocessing workers\n",
        "\n"
      ]
    },
    {
      "cell_type": "code",
      "metadata": {
        "colab_type": "code",
        "id": "mKPeFXg8Cbui",
        "outputId": "f8221da5-c7bd-48b6-97c7-dddb5de7b693",
        "colab": {
          "base_uri": "https://localhost:8080/",
          "height": 279
        }
      },
      "source": [
        "import torch\n",
        "from torchvision import datasets, transforms\n",
        "\n",
        "batch_size = 64\n",
        "\n",
        "# Konvertierung zu PyTorch Tensoren\n",
        "transform = transforms.Compose([transforms.ToTensor()])\n",
        "\n",
        "# Download und Laden des Trainingsdatensatzes (60k)\n",
        "trainset = datasets.FashionMNIST('./FashionMNIST/', download=True, train=True, transform=transform)\n",
        "trainloader = torch.utils.data.DataLoader(trainset, batch_size=batch_size, shuffle=True)\n",
        "\n",
        "# Download und Laden des Validationsdatensatzes (10k)\n",
        "validset = datasets.FashionMNIST('./FashionMNIST/', download=True, train=False, transform=transform)\n",
        "validloader = torch.utils.data.DataLoader(validset, batch_size=batch_size, shuffle=True)"
      ],
      "execution_count": 0,
      "outputs": [
        {
          "output_type": "stream",
          "text": [
            "\r0it [00:00, ?it/s]"
          ],
          "name": "stderr"
        },
        {
          "output_type": "stream",
          "text": [
            "Downloading http://fashion-mnist.s3-website.eu-central-1.amazonaws.com/train-images-idx3-ubyte.gz to ./FashionMNIST/FashionMNIST/raw/train-images-idx3-ubyte.gz\n"
          ],
          "name": "stdout"
        },
        {
          "output_type": "stream",
          "text": [
            "26427392it [00:01, 13239205.03it/s]                              \n"
          ],
          "name": "stderr"
        },
        {
          "output_type": "stream",
          "text": [
            "Extracting ./FashionMNIST/FashionMNIST/raw/train-images-idx3-ubyte.gz to ./FashionMNIST/FashionMNIST/raw\n"
          ],
          "name": "stdout"
        },
        {
          "output_type": "stream",
          "text": [
            "\r0it [00:00, ?it/s]"
          ],
          "name": "stderr"
        },
        {
          "output_type": "stream",
          "text": [
            "Downloading http://fashion-mnist.s3-website.eu-central-1.amazonaws.com/train-labels-idx1-ubyte.gz to ./FashionMNIST/FashionMNIST/raw/train-labels-idx1-ubyte.gz\n"
          ],
          "name": "stdout"
        },
        {
          "output_type": "stream",
          "text": [
            "32768it [00:00, 96200.49it/s]                            \n",
            "0it [00:00, ?it/s]"
          ],
          "name": "stderr"
        },
        {
          "output_type": "stream",
          "text": [
            "Extracting ./FashionMNIST/FashionMNIST/raw/train-labels-idx1-ubyte.gz to ./FashionMNIST/FashionMNIST/raw\n",
            "Downloading http://fashion-mnist.s3-website.eu-central-1.amazonaws.com/t10k-images-idx3-ubyte.gz to ./FashionMNIST/FashionMNIST/raw/t10k-images-idx3-ubyte.gz\n"
          ],
          "name": "stdout"
        },
        {
          "output_type": "stream",
          "text": [
            "4423680it [00:01, 4052881.73it/s]                             \n",
            "0it [00:00, ?it/s]"
          ],
          "name": "stderr"
        },
        {
          "output_type": "stream",
          "text": [
            "Extracting ./FashionMNIST/FashionMNIST/raw/t10k-images-idx3-ubyte.gz to ./FashionMNIST/FashionMNIST/raw\n",
            "Downloading http://fashion-mnist.s3-website.eu-central-1.amazonaws.com/t10k-labels-idx1-ubyte.gz to ./FashionMNIST/FashionMNIST/raw/t10k-labels-idx1-ubyte.gz\n"
          ],
          "name": "stdout"
        },
        {
          "output_type": "stream",
          "text": [
            "8192it [00:00, 31681.48it/s]            "
          ],
          "name": "stderr"
        },
        {
          "output_type": "stream",
          "text": [
            "Extracting ./FashionMNIST/FashionMNIST/raw/t10k-labels-idx1-ubyte.gz to ./FashionMNIST/FashionMNIST/raw\n",
            "Processing...\n",
            "Done!\n"
          ],
          "name": "stdout"
        },
        {
          "output_type": "stream",
          "text": [
            "\n"
          ],
          "name": "stderr"
        }
      ]
    },
    {
      "cell_type": "code",
      "metadata": {
        "colab_type": "code",
        "id": "TIV573YgC8Su",
        "outputId": "0c791acb-138a-4673-809a-670c84591702",
        "colab": {
          "base_uri": "https://localhost:8080/",
          "height": 69
        }
      },
      "source": [
        "!ls  -lh FashionMNIST/*"
      ],
      "execution_count": 0,
      "outputs": [
        {
          "output_type": "stream",
          "text": [
            "total 8.0K\n",
            "drwxr-xr-x 2 root root 4.0K Oct 10 08:34 processed\n",
            "drwxr-xr-x 2 root root 4.0K Oct 10 08:34 raw\n"
          ],
          "name": "stdout"
        }
      ]
    },
    {
      "cell_type": "code",
      "metadata": {
        "colab_type": "code",
        "id": "tgpSt-jbC8Sw",
        "outputId": "e9042fb8-0183-45a1-8116-56286d46044c",
        "colab": {
          "base_uri": "https://localhost:8080/",
          "height": 34
        }
      },
      "source": [
        "print(len(trainset), len(validset))"
      ],
      "execution_count": 0,
      "outputs": [
        {
          "output_type": "stream",
          "text": [
            "60000 10000\n"
          ],
          "name": "stdout"
        }
      ]
    },
    {
      "cell_type": "code",
      "metadata": {
        "colab_type": "code",
        "id": "2Lalg64sC8S1",
        "outputId": "884cb255-6c46-4b5a-e5aa-20bc8147a018",
        "colab": {
          "base_uri": "https://localhost:8080/",
          "height": 516
        }
      },
      "source": [
        "import numpy as np\n",
        "import matplotlib.pyplot as plt\n",
        "\n",
        "print(len(trainset), len(validset))\n",
        "\n",
        "\n",
        "labels_map = {0 : 'T-Shirt', 1 : 'Trouser', 2 : 'Pullover', 3 : 'Dress', 4 : 'Coat', 5 : 'Sandal', 6 : 'Shirt',\n",
        "              7 : 'Sneaker', 8 : 'Bag', 9 : 'Ankle Boot'}\n",
        "\n",
        "fig = plt.figure(figsize=(8, 8));\n",
        "columns = 4;\n",
        "rows = 4;\n",
        "for i in range(1, columns*rows +1):\n",
        "    img_xy = np.random.randint(len(trainset));\n",
        "    img = trainset[img_xy][0][0,:,:]\n",
        "    fig.add_subplot(rows, columns, i)\n",
        "    plt.title(labels_map[trainset[img_xy][1]])\n",
        "    plt.axis('off')\n",
        "    plt.imshow(img, cmap='gray')\n",
        "\n",
        "plt.show()"
      ],
      "execution_count": 0,
      "outputs": [
        {
          "output_type": "stream",
          "text": [
            "60000 10000\n"
          ],
          "name": "stdout"
        },
        {
          "output_type": "display_data",
          "data": {
            "image/png": "[encoded data removed]",
            "text/plain": [
              "<Figure size 576x576 with 16 Axes>"
            ]
          },
          "metadata": {
            "tags": []
          }
        }
      ]
    },
    {
      "cell_type": "code",
      "metadata": {
        "colab_type": "code",
        "id": "T9DV5ns-DVSN",
        "outputId": "9d30732a-e376-41a0-87d0-b56e028d35dd",
        "colab": {
          "base_uri": "https://localhost:8080/",
          "height": 69
        }
      },
      "source": [
        "# Test trainLoader\n",
        "# (batches, channels, width, lenght) = (batches, 1, 28, 28)  # gray scale\n",
        "for i, (images, labels) in enumerate(trainloader):\n",
        "    print(i, labels.size(), images.size())\n",
        "    if i>1: break"
      ],
      "execution_count": 0,
      "outputs": [
        {
          "output_type": "stream",
          "text": [
            "0 torch.Size([64]) torch.Size([64, 1, 28, 28])\n",
            "1 torch.Size([64]) torch.Size([64, 1, 28, 28])\n",
            "2 torch.Size([64]) torch.Size([64, 1, 28, 28])\n"
          ],
          "name": "stdout"
        }
      ]
    },
    {
      "cell_type": "code",
      "metadata": {
        "id": "Rdacr-6BFYvq",
        "colab_type": "code",
        "outputId": "9aa9fbae-59fc-4288-c77f-34f405b880a5",
        "colab": {
          "base_uri": "https://localhost:8080/",
          "height": 225
        }
      },
      "source": [
        "# Flatten images from 28x28 to 784\n",
        "# (batches, channels, width,  lenght) = (batch size, 784)  # gray scale\n",
        "for i, (images, labels) in enumerate(trainloader):\n",
        "    print(i, labels.size(), images.view(images.size(0), -1).size())\n",
        "    if i>10: break"
      ],
      "execution_count": 0,
      "outputs": [
        {
          "output_type": "stream",
          "text": [
            "0 torch.Size([64]) torch.Size([64, 784])\n",
            "1 torch.Size([64]) torch.Size([64, 784])\n",
            "2 torch.Size([64]) torch.Size([64, 784])\n",
            "3 torch.Size([64]) torch.Size([64, 784])\n",
            "4 torch.Size([64]) torch.Size([64, 784])\n",
            "5 torch.Size([64]) torch.Size([64, 784])\n",
            "6 torch.Size([64]) torch.Size([64, 784])\n",
            "7 torch.Size([64]) torch.Size([64, 784])\n",
            "8 torch.Size([64]) torch.Size([64, 784])\n",
            "9 torch.Size([64]) torch.Size([64, 784])\n",
            "10 torch.Size([64]) torch.Size([64, 784])\n",
            "11 torch.Size([64]) torch.Size([64, 784])\n"
          ],
          "name": "stdout"
        }
      ]
    },
    {
      "cell_type": "markdown",
      "metadata": {
        "id": "Jr7CgOdZIiIv",
        "colab_type": "text"
      },
      "source": [
        "# Übung\n",
        "1. Entwickle ein Feed Forward NN (MLP) aus 3 Hidden Layers mit jeweils einer ReLU Activation. Benutze folgende Templates:\n"
      ]
    },
    {
      "cell_type": "code",
      "metadata": {
        "id": "TbVYvqwyGwMo",
        "colab_type": "code",
        "colab": {}
      },
      "source": [
        "import torch\n",
        "import torch.nn as nn\n",
        "import torch.nn.functional as F\n",
        "\n",
        "class Net(nn.Module):\n",
        "        \n",
        "    def __init__(self, input_dim, hidden_dim1, hidden_dim2, hidden_dim3, output_dim):\n",
        "        super(Net, self).__init__()\n",
        "        # Füge nn.Linear() und nn.ReLU() Module hier ein \n",
        "        \n",
        "    def forward(self, x):        \n",
        "        # Definiere die Forward-Sequenz hier aus den Modulen in __init__()\n",
        "        return out\n",
        "    \n",
        "input_dim = ? \n",
        "hidden_dim1 = ?\n",
        "hidden_dim2 = ?\n",
        "hidden_dim3 = ?\n",
        "output_dim = ?\n",
        "\n",
        "model = Net(input_dim, hidden_dim1, hidden_dim2, hidden_dim3, output_dim)\n",
        "\n",
        "# Check Architecture\n",
        "print(model)"
      ],
      "execution_count": 0,
      "outputs": []
    },
    {
      "cell_type": "markdown",
      "metadata": {
        "id": "VLxdJVjMGu7M",
        "colab_type": "text"
      },
      "source": [
        "2. Schreibe eine Accuracy-Funktion mit Torch-Tensoren als Eingabe."
      ]
    },
    {
      "cell_type": "code",
      "metadata": {
        "id": "vVhTpcb-HaiQ",
        "colab_type": "code",
        "colab": {}
      },
      "source": [
        "def accuracy(y_true, pred):\n",
        "    # do something here\n",
        "    return correct/total"
      ],
      "execution_count": 0,
      "outputs": []
    },
    {
      "cell_type": "markdown",
      "metadata": {
        "id": "N67RNGazHa_c",
        "colab_type": "text"
      },
      "source": [
        "3. Definiere eine SGD Optimizer und eine Cross Entropy Loss Funktion."
      ]
    },
    {
      "cell_type": "markdown",
      "metadata": {
        "id": "NJNRP-7PKJXe",
        "colab_type": "text"
      },
      "source": [
        "4. Trainiere das Modell mit demTrainingsdatensatz und  drucke nach jeder Epoche\n",
        "    - Loss  und Accuracy für den Trainingsdatensatz\n",
        "    - Loss  und Accuracy für den Validationsdatensatz\n",
        "    \n",
        "Benutze diese Templates:"
      ]
    },
    {
      "cell_type": "code",
      "metadata": {
        "id": "6_uzpoAEKIoD",
        "colab_type": "code",
        "colab": {}
      },
      "source": [
        "# for plots:\n",
        "epochs = []\n",
        "plot_train_losses = []\n",
        "plot_train_accs = []\n",
        "plot_val_losses = []\n",
        "plot_val_accs = []\n",
        "    \n",
        "def train_loop(model, trainloader, validloader=None, num_epochs = 20, print_every = 200):\n",
        "    \n",
        "    for epoch in range(num_epochs):\n",
        "        train_losses = []      # stores losses of all batches\n",
        "        train_accs = []        # stores accuracy of all batches\n",
        "        val_losses = []  # stores losses of all batches for validation sample\n",
        "        val_accs = []    # stores losses of all batches for validation sample\n",
        "    \n",
        "        # Trainingsschleife\n",
        "        ...\n",
        "        loss, preds = train(model, images, labels) ### siehe unten\n",
        "        acc = accuracy(labels, preds)\n",
        "        ...\n",
        "        if (i+1) % print_every == 0:\n",
        "            print('Training', epoch+1, i+1, loss.item())\n",
        "        \n",
        "        if validloader is None:\n",
        "            continue\n",
        "\n",
        "        # Validationsschleife\n",
        "        ...\n",
        "        loss, preds = valid(model, images, labels)  ### siehe unten\n",
        "        acc = accuracy(labels, preds)\n",
        "        ...\n",
        "        if (i+1) % print_every == 0:\n",
        "            print('Validation', epoch+1, i+1, loss.item())\n",
        "\n",
        "        print('--- Epoch, Train-Loss, Valid-Loss:', epoch, np.mean(train_losses), np.mean(val_losses))\n",
        "        \n",
        "        "
      ],
      "execution_count": 0,
      "outputs": []
    },
    {
      "cell_type": "code",
      "metadata": {
        "id": "ma39lpQzQg-8",
        "colab_type": "code",
        "colab": {}
      },
      "source": [
        "# Training einer Batch\n",
        "def train(model, images, label, train=True):    \n",
        "    ...\n",
        "    return loss, preds\n",
        "            \n",
        "# Validierung: Nur Vorwärtslauf ohne Backpropagation\n",
        "def valid(model, images, label):\n",
        "    return train(model, images, label, train=False)"
      ],
      "execution_count": 0,
      "outputs": []
    },
    {
      "cell_type": "markdown",
      "metadata": {
        "id": "kVP8coQbLU02",
        "colab_type": "text"
      },
      "source": [
        "5. Plotte Loss und Accuracy vs. Epoche für Training- und Validation--Datasets"
      ]
    }
  ]
}