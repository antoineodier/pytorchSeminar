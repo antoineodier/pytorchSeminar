{
  "nbformat": 4,
  "nbformat_minor": 0,
  "metadata": {
    "colab": {
      "name": "02_pytorch_de.ipynb",
      "provenance": [],
      "collapsed_sections": [
        "LLwY-vpLpvZN",
        "bCC7beH2xkFU",
        "zscECvvPrh5_",
        "0WDxhB-vrsaC",
        "uV48zU5atGYK",
        "og4LSKBE1NRw",
        "UPTLESBRupP8",
        "R90DcNYsEbJ4",
        "KC3p8zfQvCY2",
        "2_xbr8ONvIft",
        "14GqrywfvSni",
        "cvQgwfxgvwY7",
        "aqtXbgA9v0Vl",
        "RhS3YpqMv3ea",
        "cVwyMu6sv6kS",
        "5jzzUJ7lRGLN",
        "QS_rEE8nZSw7",
        "b_A-FopaFBkc",
        "gqT8Zr0faLcf",
        "k58H_L9uaUYT",
        "dWqizLhKaiNB",
        "diK4TiNNazn0",
        "MkDvpeRmbBNA",
        "Z6iwLaHB7Mg6",
        "rhHa5kRRCUfC",
        "5g5GEozLKhHu",
        "tP53sdcwKhH8",
        "7BgA27tYKhH_",
        "y6ps5-XLKhIC",
        "AMyTBTWHKhIF"
      ],
      "include_colab_link": true
    },
    "kernelspec": {
      "name": "python3",
      "display_name": "Python 3"
    },
    "accelerator": "GPU"
  },
  "cells": [
    {
      "cell_type": "markdown",
      "metadata": {
        "id": "view-in-github",
        "colab_type": "text"
      },
      "source": [
        "<a href=\"https://colab.research.google.com/github/antoineodier/pytorchSeminar/blob/master/02_pytorch_de.ipynb\" target=\"_parent\"><img src=\"https://colab.research.google.com/assets/colab-badge.svg\" alt=\"Open In Colab\"/></a>"
      ]
    },
    {
      "cell_type": "markdown",
      "metadata": {
        "id": "LLwY-vpLpvZN",
        "colab_type": "text"
      },
      "source": [
        "# Lineare Regression (fast ein Perceptron)\n",
        "*****************************************\n",
        "\n",
        "\n",
        "### Datensatz-Generierung"
      ]
    },
    {
      "cell_type": "code",
      "metadata": {
        "id": "YQR5EjiJp5qz",
        "colab_type": "code",
        "outputId": "7db5c80d-eefe-463d-f058-04c8f06322ec",
        "colab": {
          "base_uri": "https://localhost:8080/",
          "height": 300
        }
      },
      "source": [
        "import torch\n",
        "import numpy as np\n",
        "import matplotlib.pyplot as plt\n",
        "from sklearn import datasets\n",
        "\n",
        "# Wir generieren einen Datensatz mit einer gewissen Streuung und einem Bias\n",
        "random_state = 331  # reproduzierbare Ergebnisse\n",
        "b = 20.  # Offset oder Bias\n",
        "sigma = 12. # Noise\n",
        "# w ist die Steigung der Linie\n",
        "x, y, w = datasets.make_regression(n_samples=300, shuffle=True, n_features=1, \n",
        "                                   n_informative=1, noise=sigma, coef=True, bias=b,\n",
        "                                   random_state=random_state)\n",
        "\n",
        "# Generator Model w/o Noise\n",
        "line_x = np.linspace(x.min(), x.max(), 100)[:, np.newaxis]\n",
        "line_y = w * line_x + b\n",
        "\n",
        "plt.xlabel('(<height> - height) / <height>')\n",
        "plt.ylabel('weight - <weight> (kg)')\n",
        "plt.scatter(x, y, marker='o', s=15, edgecolor='k')\n",
        "#p = plt.scatter(line_x, line_y, c='g')\n",
        "p = plt.plot(line_x, line_y, c='g')\n",
        "\n",
        "print('w, b, sigma:', w, b, sigma)"
      ],
      "execution_count": 0,
      "outputs": [
        {
          "output_type": "stream",
          "text": [
            "w, b, sigma: 57.21053211482911 20.0 12.0\n"
          ],
          "name": "stdout"
        },
        {
          "output_type": "display_data",
          "data": {
            "image/png": "[encoded data removed]",
            "text/plain": [
              "<Figure size 432x288 with 1 Axes>"
            ]
          },
          "metadata": {
            "tags": []
          }
        }
      ]
    },
    {
      "cell_type": "markdown",
      "metadata": {
        "id": "tTzKUHoLpfb-",
        "colab_type": "text"
      },
      "source": [
        "Der vom Generator benutze Linearfunktion lautet also (einschließlich Noise):\n",
        "$$y _i= w \\cdot x_i + b + \\sigma$$\n",
        "wobei *w* = *coef*, *b* = *bias*, $\\sigma$ = *sigma*\n",
        "\n",
        "\n",
        "- Generator Modell mit (Grün) und ohne Noise (Blau)\n"
      ]
    },
    {
      "cell_type": "markdown",
      "metadata": {
        "id": "bCC7beH2xkFU",
        "colab_type": "text"
      },
      "source": [
        "## Linear Regression mit einem Perceptron"
      ]
    },
    {
      "cell_type": "markdown",
      "metadata": {
        "id": "zscECvvPrh5_",
        "colab_type": "text"
      },
      "source": [
        "### Vorverarbeitung"
      ]
    },
    {
      "cell_type": "code",
      "metadata": {
        "id": "mlRUVlibzE8Y",
        "colab_type": "code",
        "outputId": "f1710ccc-c506-4ef7-8b8e-b5c8f29f184b",
        "colab": {
          "base_uri": "https://localhost:8080/",
          "height": 51
        }
      },
      "source": [
        "# Konvertierung des Input nach torch Tensoren\n",
        "x_in = torch.from_numpy(x).float()\n",
        "print(x_in.size())  # (batch size, input dimension)\n",
        "\n",
        "# Konvertierung des Targets nach torch Tensoren\n",
        "y_true = torch.from_numpy(y).float()\n",
        "\n",
        "print(y_true.size())  # (Batchgröße)"
      ],
      "execution_count": 0,
      "outputs": [
        {
          "output_type": "stream",
          "text": [
            "torch.Size([300, 1])\n",
            "torch.Size([300])\n"
          ],
          "name": "stdout"
        }
      ]
    },
    {
      "cell_type": "code",
      "metadata": {
        "id": "LvyWtK3Kzc4f",
        "colab_type": "code",
        "colab": {}
      },
      "source": [
        "import torch\n",
        "import torch.nn as nn\n",
        "\n",
        "        \n",
        "# Simple lineare Regression\n",
        "class RegrModel(nn.Module):\n",
        "    \n",
        "    def __init__(self, input_dim, output_dim):\n",
        "        super(RegrModel, self).__init__() \n",
        "        # Hier generierst du Instanzen aller Submodule des Netzwerks \n",
        "        \n",
        "        # Simple Feed Forward Layer \n",
        "        # ist auch abgeleitet von der Klasse nn.Module\n",
        "        # Erwartet Eingabedimension (batch size, input_dim)\n",
        "        # Returns Tensor mit Dimension (batch size, output_dim)\n",
        "        self.out = nn.Linear(input_dim, output_dim) \n",
        "        \n",
        "    def forward(self, x):\n",
        "        # Hier definierst du die Vorwärts-Sequenz\n",
        "        # autograd generiert dynamisch einen Graphen bei jedem Durchlauf (darauf gehen wir unten noch näher ein)\n",
        "        \n",
        "        out = self.out(x)\n",
        "        return out"
      ],
      "execution_count": 0,
      "outputs": []
    },
    {
      "cell_type": "markdown",
      "metadata": {
        "id": "0WDxhB-vrsaC",
        "colab_type": "text"
      },
      "source": [
        "- Eigene Network-Klasse abgeleitet von **nn.Module** (unterstützen nur Batch-Eingaben)\n",
        "- Methoden __\\_\\_init\\_\\_()__ und  __forward()__ müssen definiert werden\n",
        "\n",
        "### Instanz der Netzwerkklasse:"
      ]
    },
    {
      "cell_type": "code",
      "metadata": {
        "id": "sR2mYI-xz4Xx",
        "colab_type": "code",
        "outputId": "8ff906b4-d388-4dfe-beeb-6c96df2093dd",
        "colab": {
          "base_uri": "https://localhost:8080/",
          "height": 69
        }
      },
      "source": [
        "# Für dieses einfache Problem reichen diese Dimensionen (Perceptron - wie auf dem Bild oben):\n",
        "input_dim = 1\n",
        "output_dim = 1\n",
        "\n",
        "model = RegrModel(input_dim, output_dim)\n",
        "\n",
        "print(model)"
      ],
      "execution_count": 0,
      "outputs": [
        {
          "output_type": "stream",
          "text": [
            "RegrModel(\n",
            "  (out): Linear(in_features=1, out_features=1, bias=True)\n",
            ")\n"
          ],
          "name": "stdout"
        }
      ]
    },
    {
      "cell_type": "markdown",
      "metadata": {
        "id": "uV48zU5atGYK",
        "colab_type": "text"
      },
      "source": [
        "### Loss function\n",
        "$$ MSE = \\frac{1}{n} \\sum_{i=1}^{n}{(y_i - \\hat{y}_i)^2} = \\frac{1}{n} \\sum_{i=1}^{n}{( (w \\cdot x_i+ b)  - \\hat{y}_i)^2}$$\n"
      ]
    },
    {
      "cell_type": "code",
      "metadata": {
        "id": "ZvY6e_EC0PtK",
        "colab_type": "code",
        "colab": {}
      },
      "source": [
        "# Differenzierbare Loss-Funktion: Vordefinierte Mean Squared Error als Loss\n",
        "loss_function = nn.MSELoss()  "
      ],
      "execution_count": 0,
      "outputs": []
    },
    {
      "cell_type": "code",
      "metadata": {
        "id": "j4O280MM1MqE",
        "colab_type": "code",
        "colab": {}
      },
      "source": [
        "import torch.optim as optim\n",
        "\n",
        "# Definiere einen Optimizer und verknüpfe mit Parametern des Netzwerks\n",
        "optimizer = optim.SGD(model.parameters(), lr=0.001)  "
      ],
      "execution_count": 0,
      "outputs": []
    },
    {
      "cell_type": "markdown",
      "metadata": {
        "id": "og4LSKBE1NRw",
        "colab_type": "text"
      },
      "source": [
        "### Training"
      ]
    },
    {
      "cell_type": "code",
      "metadata": {
        "id": "32X95CRo0eVc",
        "colab_type": "code",
        "outputId": "41ba7ed4-8cb5-4aa9-99bb-4216fc6ccf6d",
        "colab": {
          "base_uri": "https://localhost:8080/",
          "height": 190
        }
      },
      "source": [
        "num_epochs = 100\n",
        "# Training durchführen\n",
        "for epoch in range(num_epochs): \n",
        "    losses = []  # Speichert Losses aller Batches\n",
        "    for i, x_i in enumerate(x_in):\n",
        "        model.zero_grad()  # Setzt alle Gradienten auf None\n",
        "\n",
        "        x_out = model(x_i)  # forward pass\n",
        "        \n",
        "        loss = loss_function(x_out.view(-1), y_true[i].view(-1))  # calculate loss\n",
        "\n",
        "        # autograd ermittelt den backward Pass\n",
        "        loss.backward()\n",
        "\n",
        "        # Update der Gewichte mit SGD\n",
        "        optimizer.step()\n",
        "\n",
        "        losses.append(loss.item())\n",
        "\n",
        "    if epoch % 10 == 0:\n",
        "      print(epoch, np.mean(losses))"
      ],
      "execution_count": 0,
      "outputs": [
        {
          "output_type": "stream",
          "text": [
            "0 2347.083379713657\n",
            "10 138.32890173193087\n",
            "20 138.2990645802021\n",
            "30 138.29898894753308\n",
            "40 138.29898894753308\n",
            "50 138.29898894753308\n",
            "60 138.29898894753308\n",
            "70 138.29898894753308\n",
            "80 138.29898894753308\n",
            "90 138.29898894753308\n"
          ],
          "name": "stdout"
        }
      ]
    },
    {
      "cell_type": "markdown",
      "metadata": {
        "id": "UPTLESBRupP8",
        "colab_type": "text"
      },
      "source": [
        "### Trained weights"
      ]
    },
    {
      "cell_type": "code",
      "metadata": {
        "id": "hK--aSSj1EPq",
        "colab_type": "code",
        "outputId": "d50f32db-aa8f-4416-c9a9-e177f18402fe",
        "colab": {
          "base_uri": "https://localhost:8080/",
          "height": 335
        }
      },
      "source": [
        "x_out = model(x_in)\n",
        "y_pred = x_out.detach()  # vom Graphen lösen, macht eine Kopie\n",
        "\n",
        "for name, param in model.named_parameters():\n",
        "    if param.requires_grad:\n",
        "        print(name, param.data)\n",
        "\n",
        "plt.scatter(x, y, marker='o', s=25, edgecolor='k', c='b')\n",
        "plt.xlabel('(<height> - height) / <height>')\n",
        "plt.ylabel('weight - <weight> (kg)')\n",
        "plt.plot(line_x, line_y)\n",
        "plt.scatter(x, y_pred, marker='o', s=75, edgecolor='k', c='r', alpha=0.3)"
      ],
      "execution_count": 0,
      "outputs": [
        {
          "output_type": "stream",
          "text": [
            "out.weight tensor([[58.0705]])\n",
            "out.bias tensor([19.9752])\n"
          ],
          "name": "stdout"
        },
        {
          "output_type": "execute_result",
          "data": {
            "text/plain": [
              "<matplotlib.collections.PathCollection at 0x7f2aadf2c898>"
            ]
          },
          "metadata": {
            "tags": []
          },
          "execution_count": 8
        },
        {
          "output_type": "display_data",
          "data": {
            "image/png": "[encoded data removed]",
            "text/plain": [
              "<Figure size 432x288 with 1 Axes>"
            ]
          },
          "metadata": {
            "tags": []
          }
        }
      ]
    },
    {
      "cell_type": "markdown",
      "metadata": {
        "id": "R90DcNYsEbJ4",
        "colab_type": "text"
      },
      "source": [
        "# Nicht-Lineares Multi-Layer-Perceptron\n",
        "*****************************************\n",
        "\n",
        "### Generierung eines nicht-linearen Datensatzes"
      ]
    },
    {
      "cell_type": "code",
      "metadata": {
        "id": "HjKg0A4BFAWF",
        "colab_type": "code",
        "outputId": "c1858741-467e-4fd2-e4bb-9cbef69cad00",
        "colab": {
          "base_uri": "https://localhost:8080/",
          "height": 286
        }
      },
      "source": [
        "X = np.linspace(-10., 10., 100)\n",
        "\n",
        "def sin_lin(X):\n",
        "    w1, w2, w3, b = 1., 1., 0.2, 3.\n",
        "    return w1*np.sin(X*w2) + w3*X + b\n",
        "\n",
        "sin_y = sin_lin(X)\n",
        "\n",
        "sample_size = 300\n",
        "noise = 2.\n",
        "data_x = np.random.random(sample_size) * 20. - 10\n",
        "data_y = sin_lin(data_x) + np.random.random(len(data_x)) * noise - noise/2. \n",
        "\n",
        "plt.plot(X, sin_y, c='g')\n",
        "plt.scatter(data_x, data_y)"
      ],
      "execution_count": 0,
      "outputs": [
        {
          "output_type": "execute_result",
          "data": {
            "text/plain": [
              "<matplotlib.collections.PathCollection at 0x7f2aab2d1b00>"
            ]
          },
          "metadata": {
            "tags": []
          },
          "execution_count": 9
        },
        {
          "output_type": "display_data",
          "data": {
            "image/png": "[encoded data removed]",
            "text/plain": [
              "<Figure size 432x288 with 1 Axes>"
            ]
          },
          "metadata": {
            "tags": []
          }
        }
      ]
    },
    {
      "cell_type": "markdown",
      "metadata": {
        "id": "KC3p8zfQvCY2",
        "colab_type": "text"
      },
      "source": [
        "### Vorbereitung"
      ]
    },
    {
      "cell_type": "code",
      "metadata": {
        "id": "GISJToplGt6g",
        "colab_type": "code",
        "outputId": "14339805-ff01-46be-cfc8-dbdf6dd67112",
        "colab": {
          "base_uri": "https://localhost:8080/",
          "height": 51
        }
      },
      "source": [
        "x_in = torch.from_numpy(data_x).float()\n",
        "x_in = x_in.view(-1, 1)\n",
        "print(x_in.size())  # (Batchgröße, Eingabedimension)\n",
        "\n",
        "y_true = torch.from_numpy(data_y).float()\n",
        "\n",
        "print(y_true.size())  # (Batchgröße)\n",
        "\n",
        "model = RegrModel(1, 1)\n",
        "\n",
        "optimizer = optim.SGD(model.parameters(), lr=0.0005)  \n",
        "\n",
        "loss_function = nn.MSELoss()"
      ],
      "execution_count": 0,
      "outputs": [
        {
          "output_type": "stream",
          "text": [
            "torch.Size([300, 1])\n",
            "torch.Size([300])\n"
          ],
          "name": "stdout"
        }
      ]
    },
    {
      "cell_type": "markdown",
      "metadata": {
        "id": "2_xbr8ONvIft",
        "colab_type": "text"
      },
      "source": [
        "### Training"
      ]
    },
    {
      "cell_type": "code",
      "metadata": {
        "id": "X4TE_OiSHR3a",
        "colab_type": "code",
        "outputId": "f468d4cb-f4c7-4f6f-b4f2-11c5dff183ea",
        "colab": {
          "base_uri": "https://localhost:8080/",
          "height": 190
        }
      },
      "source": [
        "num_epochs = 100\n",
        "\n",
        "# Training durchführen\n",
        "for epoch in range(num_epochs): \n",
        "    losses = []  # Speichert Losses aller Batches\n",
        "    for i, x_i in enumerate(x_in):\n",
        "        model.zero_grad()  # Setzt alle Gradienten auf None\n",
        "\n",
        "        x_out = model(x_i)  # forward pass\n",
        "        \n",
        "        loss = loss_function(x_out.view(-1), y_true[i].view(-1))  # calculate loss\n",
        "\n",
        "        # autograd ermittelt den backward Pass.\n",
        "        # Alle Gradienten für die Loss bzgl aller Tensoren mit requires_grad=True.\n",
        "        loss.backward()\n",
        "\n",
        "        # Update der Gewichte mit SGD. \n",
        "        optimizer.step()\n",
        "\n",
        "        losses.append(loss.item())\n",
        "\n",
        "    if epoch % 10 == 0:\n",
        "      print(epoch, np.mean(losses))"
      ],
      "execution_count": 0,
      "outputs": [
        {
          "output_type": "stream",
          "text": [
            "0 7.546817859925019\n",
            "10 0.7689186751985032\n",
            "20 0.7570646625423554\n",
            "30 0.7570626130634636\n",
            "40 0.7570639104129752\n",
            "50 0.7570640062221142\n",
            "60 0.7570640062221142\n",
            "70 0.7570640062221142\n",
            "80 0.7570640062221142\n",
            "90 0.7570640062221142\n"
          ],
          "name": "stdout"
        }
      ]
    },
    {
      "cell_type": "markdown",
      "metadata": {
        "id": "14GqrywfvSni",
        "colab_type": "text"
      },
      "source": [
        "### Trainierte Gewichte des linearen Modells"
      ]
    },
    {
      "cell_type": "code",
      "metadata": {
        "id": "4b0-MrnhH7y5",
        "colab_type": "code",
        "outputId": "b57db2eb-ceaa-4e25-ab54-ff79d13af4b5",
        "colab": {
          "base_uri": "https://localhost:8080/",
          "height": 321
        }
      },
      "source": [
        "x_out = model(x_in)\n",
        "y_pred = x_out.detach()\n",
        "\n",
        "for name, param in model.named_parameters():\n",
        "    if param.requires_grad:\n",
        "        print(name, param.data)\n",
        "\n",
        "plt.plot(X, sin_y, c='g')\n",
        "plt.scatter(data_x, data_y)\n",
        "plt.scatter(data_x, y_pred, marker='o', s=75, edgecolor='k', c='r', alpha=0.3)"
      ],
      "execution_count": 0,
      "outputs": [
        {
          "output_type": "stream",
          "text": [
            "out.weight tensor([[0.2114]])\n",
            "out.bias tensor([2.9765])\n"
          ],
          "name": "stdout"
        },
        {
          "output_type": "execute_result",
          "data": {
            "text/plain": [
              "<matplotlib.collections.PathCollection at 0x7fd0ca50f898>"
            ]
          },
          "metadata": {
            "tags": []
          },
          "execution_count": 13
        },
        {
          "output_type": "display_data",
          "data": {
            "image/png": "[encoded data removed]",
            "text/plain": [
              "<Figure size 432x288 with 1 Axes>"
            ]
          },
          "metadata": {
            "tags": []
          }
        }
      ]
    },
    {
      "cell_type": "markdown",
      "metadata": {
        "id": "Pn-ln04HIgZ5",
        "colab_type": "text"
      },
      "source": [
        "Unser lineares Perceptron kann nur lineare Strukturen lernen.\n",
        "\n",
        "Nichtlinearität durch zusätzlichen Layer und nichtlineare Aktivierungsfunktion:"
      ]
    },
    {
      "cell_type": "markdown",
      "metadata": {
        "id": "cvQgwfxgvwY7",
        "colab_type": "text"
      },
      "source": [
        "## Non-linear model"
      ]
    },
    {
      "cell_type": "code",
      "metadata": {
        "id": "LZlY4oJtIh2q",
        "colab_type": "code",
        "colab": {}
      },
      "source": [
        "# NN mit einem hidden Layer\n",
        "class NonLinModel(nn.Module):\n",
        "    \n",
        "    def __init__(self, input_dim, hidden_dim, output_dim):\n",
        "        super(NonLinModel, self).__init__() \n",
        "        self.hidden = nn.Linear(input_dim, hidden_dim)\n",
        "        self.out = nn.Linear(hidden_dim, output_dim)\n",
        "\n",
        "    def forward(self, x):\n",
        "        out = self.hidden(x)\n",
        "        # out = torch.sigmoid(out)\n",
        "        out = torch.tanh(out)\n",
        "        out = self.out(out)\n",
        "        return out"
      ],
      "execution_count": 0,
      "outputs": []
    },
    {
      "cell_type": "markdown",
      "metadata": {
        "id": "aqtXbgA9v0Vl",
        "colab_type": "text"
      },
      "source": [
        "### Preprocessing"
      ]
    },
    {
      "cell_type": "code",
      "metadata": {
        "id": "m3V9yOwfJNHo",
        "colab_type": "code",
        "outputId": "a0fb0874-ce91-42b4-b1bf-f1e20db61b2e",
        "colab": {
          "base_uri": "https://localhost:8080/",
          "height": 51
        }
      },
      "source": [
        "x_in = torch.from_numpy(data_x).float()\n",
        "x_in = x_in.view(-1, 1)\n",
        "print(x_in.size())  # (Batchgröße, Eingabedimension)\n",
        "\n",
        "y_true = torch.from_numpy(data_y).float()\n",
        "\n",
        "print(y_true.size())  # (Batchgröße)\n",
        "\n",
        "model = NonLinModel(1, 5, 1) # (1, 10, 1)\n",
        "\n",
        "optimizer = optim.SGD(model.parameters(), lr=0.001)  # 0.002\n",
        "\n",
        "loss_function = nn.MSELoss()"
      ],
      "execution_count": 0,
      "outputs": [
        {
          "output_type": "stream",
          "text": [
            "torch.Size([300, 1])\n",
            "torch.Size([300])\n"
          ],
          "name": "stdout"
        }
      ]
    },
    {
      "cell_type": "markdown",
      "metadata": {
        "id": "RhS3YpqMv3ea",
        "colab_type": "text"
      },
      "source": [
        "### Training"
      ]
    },
    {
      "cell_type": "code",
      "metadata": {
        "id": "siRpjbLFJlix",
        "colab_type": "code",
        "outputId": "aa169989-2f80-41e7-90a3-b0f6579e1c43",
        "colab": {
          "base_uri": "https://localhost:8080/",
          "height": 190
        }
      },
      "source": [
        "num_epochs = 100\n",
        "\n",
        "# Training durchführen\n",
        "for epoch in range(num_epochs): \n",
        "    losses = []  # Speichert Losses aller Batches\n",
        "    for i, x_i in enumerate(x_in):\n",
        "        model.zero_grad()  # Setzt alle Gradienten auf None\n",
        "\n",
        "        x_out = model(x_i)  # do forward pass\n",
        "        \n",
        "        loss = loss_function(x_out.view(-1), y_true[i].view(-1))  # calculate loss\n",
        "\n",
        "        # autograd ermittelt den backward Pass.\n",
        "        # Alle Gradienten für die Loss bzgl aller Tensoren mit requires_grad=True.\n",
        "        loss.backward()\n",
        "\n",
        "        # Update der Gewichte mit SGD. \n",
        "        optimizer.step()\n",
        "\n",
        "        losses.append(loss.item())\n",
        "\n",
        "    if epoch % 10 == 0:\n",
        "      print(epoch, np.mean(losses))"
      ],
      "execution_count": 0,
      "outputs": [
        {
          "output_type": "stream",
          "text": [
            "0 2.922828303418598\n",
            "10 0.9462555494173527\n",
            "20 0.9405705117649268\n",
            "30 0.9367213211030018\n",
            "40 0.9336189654313012\n",
            "50 0.9309835448609617\n",
            "60 0.9286552288794337\n",
            "70 0.9264492637745965\n",
            "80 0.9241319248187665\n",
            "90 0.9213790857265849\n"
          ],
          "name": "stdout"
        }
      ]
    },
    {
      "cell_type": "markdown",
      "metadata": {
        "id": "cVwyMu6sv6kS",
        "colab_type": "text"
      },
      "source": [
        "### Trainierte Gewichte"
      ]
    },
    {
      "cell_type": "code",
      "metadata": {
        "id": "T2TI7nImJu3k",
        "colab_type": "code",
        "outputId": "c7d98169-8782-4e38-ac38-fe676b6f4d87",
        "colab": {
          "base_uri": "https://localhost:8080/",
          "height": 425
        }
      },
      "source": [
        "line_x = np.linspace(-10, 10, 100)\n",
        "x_in2 = torch.tensor(line_x).float().view(-1, 1)\n",
        "\n",
        "x_out = model(x_in2)\n",
        "y_pred = x_out.detach()\n",
        "\n",
        "\n",
        "for name, param in model.named_parameters():\n",
        "    if param.requires_grad:\n",
        "        print(name, param.data)\n",
        "\n",
        "plt.plot(X, sin_y, c='g')\n",
        "plt.scatter(data_x, data_y)\n",
        "plt.scatter(line_x, y_pred, marker='o', s=75, edgecolor='k', c='r', alpha=0.3)"
      ],
      "execution_count": 0,
      "outputs": [
        {
          "output_type": "stream",
          "text": [
            "hidden.weight tensor([[-1.1339],\n",
            "        [ 0.1014],\n",
            "        [ 0.0699],\n",
            "        [-1.0059],\n",
            "        [ 0.7509]])\n",
            "hidden.bias tensor([ 0.1845,  0.5708,  0.9877,  0.4179, -1.0529])\n",
            "out.weight tensor([[-0.3619,  1.1599,  1.2672, -0.4314, -0.1904]])\n",
            "out.bias tensor([1.5648])\n"
          ],
          "name": "stdout"
        },
        {
          "output_type": "execute_result",
          "data": {
            "text/plain": [
              "<matplotlib.collections.PathCollection at 0x7fd0ca4622b0>"
            ]
          },
          "metadata": {
            "tags": []
          },
          "execution_count": 18
        },
        {
          "output_type": "display_data",
          "data": {
            "image/png": "[encoded data removed]",
            "text/plain": [
              "<Figure size 432x288 with 1 Axes>"
            ]
          },
          "metadata": {
            "tags": []
          }
        }
      ]
    },
    {
      "cell_type": "markdown",
      "metadata": {
        "id": "5jzzUJ7lRGLN",
        "colab_type": "text"
      },
      "source": [
        "# Neuronales Netzwerk für Klassifizierung\n",
        "*****************************************\n",
        "- Neuronales Netzwerk (aka \"Multi-Layer-Perceptron\" aka \"Feed Forward Neural Network\" mit \"Fully Connected Layers\")\n",
        "- Am Beispiel eines Klassifizierungsproblems\n"
      ]
    },
    {
      "cell_type": "markdown",
      "metadata": {
        "id": "y-GJGRiwnZkv",
        "colab_type": "text"
      },
      "source": [
        "- Die Anzahl der Klassen definiert die Anzahl der Knoten im Output Layer\n",
        "- Jeder Knoten repräsentiert eine Klasse\n",
        "- Der Output-Knoten mit der höchsten Aktivität wird als Prediction interpretiert\n",
        "\n",
        "[tensorflow playground](https://playground.tensorflow.org:)"
      ]
    },
    {
      "cell_type": "markdown",
      "metadata": {
        "id": "QS_rEE8nZSw7",
        "colab_type": "text"
      },
      "source": [
        "### Random Dataset Generierung mit Scikit-Learn"
      ]
    },
    {
      "cell_type": "code",
      "metadata": {
        "id": "0bA3PlagEo6z",
        "colab_type": "code",
        "outputId": "279678d7-f99b-416c-d890-15c07686d4d8",
        "colab": {
          "base_uri": "https://localhost:8080/",
          "height": 286
        }
      },
      "source": [
        "import matplotlib.pyplot as plt\n",
        "import numpy as np\n",
        "from sklearn.datasets import make_circles\n",
        "\n",
        "x, y = make_circles(n_samples=200, shuffle=True, noise=0.1, random_state=331, factor=0.5)\n",
        "plt.scatter(x[:, 0], x[:, 1], marker='o', c=y, s=25, edgecolor='k', cmap='spring')"
      ],
      "execution_count": 0,
      "outputs": [
        {
          "output_type": "execute_result",
          "data": {
            "text/plain": [
              "<matplotlib.collections.PathCollection at 0x7f2aab2bbfd0>"
            ]
          },
          "metadata": {
            "tags": []
          },
          "execution_count": 12
        },
        {
          "output_type": "display_data",
          "data": {
            "image/png": "[encoded data removed]",
            "text/plain": [
              "<Figure size 432x288 with 1 Axes>"
            ]
          },
          "metadata": {
            "tags": []
          }
        }
      ]
    },
    {
      "cell_type": "code",
      "metadata": {
        "id": "qF7pj8X-FBNi",
        "colab_type": "code",
        "colab": {}
      },
      "source": [
        "import torch\n",
        "import torch.nn as nn"
      ],
      "execution_count": 0,
      "outputs": []
    },
    {
      "cell_type": "markdown",
      "metadata": {
        "id": "b_A-FopaFBkc",
        "colab_type": "text"
      },
      "source": [
        "### Feed Forward Neural Network mit einem fully connected (dense) hidden Layer"
      ]
    },
    {
      "cell_type": "code",
      "metadata": {
        "id": "Ps0lJ_V3RLXV",
        "colab_type": "code",
        "colab": {}
      },
      "source": [
        "# good practice: apply softmax afterwards -> often helps with training\n",
        "class Net(nn.Module):\n",
        "        \n",
        "    def __init__(self, input_dim, hidden_dim, output_dim):\n",
        "        super(Net, self).__init__() \n",
        "        \n",
        "        self.fc1 = nn.Linear(input_dim, hidden_dim) \n",
        "        self.act1 = nn.Tanh()\n",
        "        self.fc2 = nn.Linear(hidden_dim, output_dim)\n",
        "        \n",
        "    def forward(self, x):\n",
        "        # Hier definierst du die Vorwärts-Sequenz\n",
        "        # autograd generiert dynamisch einen Graphen bei jedem Durchlauf\n",
        "        # Debugging, bedingte Abzweigungen hier möglich!\n",
        "        \n",
        "        x = self.fc1(x)\n",
        "        x = self.act1(x)\n",
        "        x = self.fc2(x)\n",
        "        return x"
      ],
      "execution_count": 0,
      "outputs": []
    },
    {
      "cell_type": "markdown",
      "metadata": {
        "id": "gqT8Zr0faLcf",
        "colab_type": "text"
      },
      "source": [
        "### Vorverarbeitung"
      ]
    },
    {
      "cell_type": "code",
      "metadata": {
        "id": "II1p1aa3V3ZS",
        "colab_type": "code",
        "outputId": "349e4b3f-f364-424b-82b9-ee865cab5e47",
        "colab": {
          "base_uri": "https://localhost:8080/",
          "height": 51
        }
      },
      "source": [
        "# Konvertierung der numpy Vektoren in PyTorch Float-Tensoren\n",
        "x_in = torch.from_numpy(x).float()\n",
        "print(x_in.size())  # (Batchgröße, Eingabedimension)\n",
        "print(x_in.type())  # Default Datentyp ist FloatTensor"
      ],
      "execution_count": 0,
      "outputs": [
        {
          "output_type": "stream",
          "text": [
            "torch.Size([200, 2])\n",
            "torch.FloatTensor\n"
          ],
          "name": "stdout"
        }
      ]
    },
    {
      "cell_type": "markdown",
      "metadata": {
        "id": "k58H_L9uaUYT",
        "colab_type": "text"
      },
      "source": [
        "### GPU (CUDA)"
      ]
    },
    {
      "cell_type": "code",
      "metadata": {
        "id": "O8-9ikR-S-C-",
        "colab_type": "code",
        "outputId": "b2f8a379-4e8b-4da4-d336-31dabf9c9f06",
        "colab": {
          "base_uri": "https://localhost:8080/",
          "height": 34
        }
      },
      "source": [
        "x_in = x_in.cuda()  # Verschiebe auf GPU\n",
        "print(x_in.type())  "
      ],
      "execution_count": 0,
      "outputs": [
        {
          "output_type": "stream",
          "text": [
            "torch.cuda.FloatTensor\n"
          ],
          "name": "stdout"
        }
      ]
    },
    {
      "cell_type": "markdown",
      "metadata": {
        "id": "dWqizLhKaiNB",
        "colab_type": "text"
      },
      "source": [
        "### Target Tensor"
      ]
    },
    {
      "cell_type": "code",
      "metadata": {
        "id": "YZ9FGcZ6TDMo",
        "colab_type": "code",
        "outputId": "9606cb55-aad8-4ce7-c56c-56d8c2716b3c",
        "colab": {
          "base_uri": "https://localhost:8080/",
          "height": 51
        }
      },
      "source": [
        "# Konvertierung der numpy Target-Vektoren in PyTorch Long-Tensoren\n",
        "# Target-Tensor für Klassifizierung muss Long Tensor sein\n",
        "\n",
        "y_true = torch.from_numpy(y).long()\n",
        "y_true = y_true.cuda()  # send to gpu \n",
        "\n",
        "print(y_true.size())  # (Batchgröße)\n",
        "print(y_true.type())"
      ],
      "execution_count": 0,
      "outputs": [
        {
          "output_type": "stream",
          "text": [
            "torch.Size([200])\n",
            "torch.cuda.LongTensor\n"
          ],
          "name": "stdout"
        }
      ]
    },
    {
      "cell_type": "markdown",
      "metadata": {
        "id": "diK4TiNNazn0",
        "colab_type": "text"
      },
      "source": [
        "### Network Instance"
      ]
    },
    {
      "cell_type": "code",
      "metadata": {
        "id": "AHJjr1VGUTVS",
        "colab_type": "code",
        "outputId": "e64e6370-7a5c-4e42-cb2f-9b316769e231",
        "colab": {
          "base_uri": "https://localhost:8080/",
          "height": 103
        }
      },
      "source": [
        "# Mit device können wir viele Paramater auf einmal elegant verschieben\n",
        "device = torch.device('cuda')  # or 'cpu'\n",
        "\n",
        "# oder:\n",
        "device = torch.device(\"cuda\" if torch.cuda.is_available() else \"cpu\")\n",
        "\n",
        "input_dim = x_in.size(-1)  # mit -1 erhält man immer die letzte Dimension\n",
        "hidden_dim = 6\n",
        "output_dim = 2\n",
        "\n",
        "model = Net(input_dim, hidden_dim, output_dim)\n",
        "model.to(device)  # Verschiebe alle Parameter des Netzwerks auf device\n",
        "\n",
        "print(model)"
      ],
      "execution_count": 0,
      "outputs": [
        {
          "output_type": "stream",
          "text": [
            "Net(\n",
            "  (fc1): Linear(in_features=2, out_features=6, bias=True)\n",
            "  (act1): Tanh()\n",
            "  (fc2): Linear(in_features=6, out_features=2, bias=True)\n",
            ")\n"
          ],
          "name": "stdout"
        }
      ]
    },
    {
      "cell_type": "markdown",
      "metadata": {
        "id": "MkDvpeRmbBNA",
        "colab_type": "text"
      },
      "source": [
        "### Optimizer"
      ]
    },
    {
      "cell_type": "code",
      "metadata": {
        "id": "LGojbGUkUimM",
        "colab_type": "code",
        "colab": {}
      },
      "source": [
        "import torch.optim as optim\n",
        "\n",
        "# Definiere einen Optimizer und verknüpfe mit Parametern des Netzwerks\n",
        "optimizer = optim.SGD(model.parameters(), lr=0.1)  "
      ],
      "execution_count": 0,
      "outputs": []
    },
    {
      "cell_type": "markdown",
      "metadata": {
        "id": "Z6iwLaHB7Mg6",
        "colab_type": "text"
      },
      "source": [
        "### Cross-Entropy Loss-Funktion"
      ]
    },
    {
      "cell_type": "code",
      "metadata": {
        "id": "thiCj8sL7OPb",
        "colab_type": "code",
        "colab": {}
      },
      "source": [
        "# Definiere Loss-Funktion für Multi-Class-Problem: CrossEntropy Loss\n",
        "loss_function = nn.CrossEntropyLoss() \n",
        "\n",
        "# Wir haben softmax noch nicht angewendet!\n",
        "# cross entropy loss = softmax + negative Log Loss"
      ],
      "execution_count": 0,
      "outputs": []
    },
    {
      "cell_type": "code",
      "metadata": {
        "id": "BngNvYhK9B_4",
        "colab_type": "code",
        "outputId": "000ed6f3-5429-4a38-fdd4-339b62ff4de0",
        "colab": {
          "base_uri": "https://localhost:8080/",
          "height": 69
        }
      },
      "source": [
        "S = np.array([0.2, 0.7, 0.1])  # from softmax\n",
        "L = np.array([1., 0., 0.])  # one-hot encoded truth info\n",
        "\n",
        "# Maximierung von accuracy: 1 oder 0\n",
        "acc = float(S.argmax() == L.argmax())\n",
        "print(acc)\n",
        "\n",
        "# allmost cross entropy: etwas differenzierter\n",
        "prod = (L.T * S).sum()\n",
        "print(prod)\n",
        "\n",
        "# Minimierung von negative log loss - cross entropy: log() kommt aus der Information Theory\n",
        "cent = - (L.T * np.log(S)).sum()\n",
        "print(cent)"
      ],
      "execution_count": 0,
      "outputs": [
        {
          "output_type": "stream",
          "text": [
            "0.0\n",
            "0.2\n",
            "1.6094379124341003\n"
          ],
          "name": "stdout"
        }
      ]
    },
    {
      "cell_type": "markdown",
      "metadata": {
        "id": "rhHa5kRRCUfC",
        "colab_type": "text"
      },
      "source": [
        "## Autograd Graph\n",
        "\n",
        "- Durch Definition des Forward Passes generiert Autograd dynamisch einen Graphen (DAG)\n",
        "- Knoten des DAGs sind Tensoren\n",
        "- Kanten des DAGs sind Operationen Tensor -> Tensor\n",
        "- Backpropagation durch den Graph\n"
      ]
    },
    {
      "cell_type": "markdown",
      "metadata": {
        "colab_type": "text",
        "id": "5g5GEozLKhHu"
      },
      "source": [
        "### Backpropagation\n",
        "[backpropagation demo](https://google-developers.appspot.com/machine-learning/crash-course/backprop-scroll/)\n",
        "\n",
        "\n",
        "- Backpropagation bzgl. eines bestimmten Knoten kann ein- oder ausgeschaltet werden\n",
        "- Tensoren speichern ihre Historie durch **requires_grad=True**\n",
        "- Dadurch kann man ihren Gradienten berechnen, der in **x.grad** gespeichert ist nachdem man mit **x.backward()** backpropagation durchgeführt hat"
      ]
    },
    {
      "cell_type": "code",
      "metadata": {
        "colab_type": "code",
        "id": "UlhyS2w3KhHw",
        "outputId": "0ed4dfce-7e94-4d5c-a2c2-ab6c8ec644bf",
        "colab": {
          "base_uri": "https://localhost:8080/",
          "height": 87
        }
      },
      "source": [
        "# Alle Parameters des Netzwerks\n",
        "for name, param in model.named_parameters():\n",
        "    print(name, param.requires_grad, param.grad)"
      ],
      "execution_count": 0,
      "outputs": [
        {
          "output_type": "stream",
          "text": [
            "fc1.weight True None\n",
            "fc1.bias True None\n",
            "fc2.weight True None\n",
            "fc2.bias True None\n"
          ],
          "name": "stdout"
        }
      ]
    },
    {
      "cell_type": "code",
      "metadata": {
        "colab_type": "code",
        "id": "6V0M_NRgKhHz",
        "outputId": "7bf36281-246c-4157-d2bb-268e5bcad688",
        "colab": {
          "base_uri": "https://localhost:8080/",
          "height": 387
        }
      },
      "source": [
        "# x_out sollte auch requires_grad == True\n",
        "# Let's check\n",
        "for i, x_i in enumerate(x_in):\n",
        "    x_out = model(x_i.cuda())\n",
        "    print(i, x_out.requires_grad)\n",
        "    break"
      ],
      "execution_count": 0,
      "outputs": [
        {
          "output_type": "error",
          "ename": "RuntimeError",
          "evalue": "ignored",
          "traceback": [
            "\u001b[0;31m---------------------------------------------------------------------------\u001b[0m",
            "\u001b[0;31mRuntimeError\u001b[0m                              Traceback (most recent call last)",
            "\u001b[0;32m<ipython-input-82-395af0a380bf>\u001b[0m in \u001b[0;36m<module>\u001b[0;34m()\u001b[0m\n\u001b[1;32m      1\u001b[0m \u001b[0;32mfor\u001b[0m \u001b[0mi\u001b[0m\u001b[0;34m,\u001b[0m \u001b[0mx_i\u001b[0m \u001b[0;32min\u001b[0m \u001b[0menumerate\u001b[0m\u001b[0;34m(\u001b[0m\u001b[0mx_in\u001b[0m\u001b[0;34m)\u001b[0m\u001b[0;34m:\u001b[0m\u001b[0;34m\u001b[0m\u001b[0;34m\u001b[0m\u001b[0m\n\u001b[0;32m----> 2\u001b[0;31m     \u001b[0mx_out\u001b[0m \u001b[0;34m=\u001b[0m \u001b[0mmodel\u001b[0m\u001b[0;34m(\u001b[0m\u001b[0mx_i\u001b[0m\u001b[0;34m.\u001b[0m\u001b[0mcuda\u001b[0m\u001b[0;34m(\u001b[0m\u001b[0;34m)\u001b[0m\u001b[0;34m)\u001b[0m\u001b[0;34m\u001b[0m\u001b[0;34m\u001b[0m\u001b[0m\n\u001b[0m\u001b[1;32m      3\u001b[0m     \u001b[0mprint\u001b[0m\u001b[0;34m(\u001b[0m\u001b[0mi\u001b[0m\u001b[0;34m,\u001b[0m \u001b[0mx_out\u001b[0m\u001b[0;34m.\u001b[0m\u001b[0mrequires_grad\u001b[0m\u001b[0;34m)\u001b[0m\u001b[0;34m\u001b[0m\u001b[0;34m\u001b[0m\u001b[0m\n\u001b[1;32m      4\u001b[0m     \u001b[0;32mbreak\u001b[0m\u001b[0;34m\u001b[0m\u001b[0;34m\u001b[0m\u001b[0m\n",
            "\u001b[0;32m/usr/local/lib/python3.6/dist-packages/torch/nn/modules/module.py\u001b[0m in \u001b[0;36m__call__\u001b[0;34m(self, *input, **kwargs)\u001b[0m\n\u001b[1;32m    491\u001b[0m             \u001b[0mresult\u001b[0m \u001b[0;34m=\u001b[0m \u001b[0mself\u001b[0m\u001b[0;34m.\u001b[0m\u001b[0m_slow_forward\u001b[0m\u001b[0;34m(\u001b[0m\u001b[0;34m*\u001b[0m\u001b[0minput\u001b[0m\u001b[0;34m,\u001b[0m \u001b[0;34m**\u001b[0m\u001b[0mkwargs\u001b[0m\u001b[0;34m)\u001b[0m\u001b[0;34m\u001b[0m\u001b[0;34m\u001b[0m\u001b[0m\n\u001b[1;32m    492\u001b[0m         \u001b[0;32melse\u001b[0m\u001b[0;34m:\u001b[0m\u001b[0;34m\u001b[0m\u001b[0;34m\u001b[0m\u001b[0m\n\u001b[0;32m--> 493\u001b[0;31m             \u001b[0mresult\u001b[0m \u001b[0;34m=\u001b[0m \u001b[0mself\u001b[0m\u001b[0;34m.\u001b[0m\u001b[0mforward\u001b[0m\u001b[0;34m(\u001b[0m\u001b[0;34m*\u001b[0m\u001b[0minput\u001b[0m\u001b[0;34m,\u001b[0m \u001b[0;34m**\u001b[0m\u001b[0mkwargs\u001b[0m\u001b[0;34m)\u001b[0m\u001b[0;34m\u001b[0m\u001b[0;34m\u001b[0m\u001b[0m\n\u001b[0m\u001b[1;32m    494\u001b[0m         \u001b[0;32mfor\u001b[0m \u001b[0mhook\u001b[0m \u001b[0;32min\u001b[0m \u001b[0mself\u001b[0m\u001b[0;34m.\u001b[0m\u001b[0m_forward_hooks\u001b[0m\u001b[0;34m.\u001b[0m\u001b[0mvalues\u001b[0m\u001b[0;34m(\u001b[0m\u001b[0;34m)\u001b[0m\u001b[0;34m:\u001b[0m\u001b[0;34m\u001b[0m\u001b[0;34m\u001b[0m\u001b[0m\n\u001b[1;32m    495\u001b[0m             \u001b[0mhook_result\u001b[0m \u001b[0;34m=\u001b[0m \u001b[0mhook\u001b[0m\u001b[0;34m(\u001b[0m\u001b[0mself\u001b[0m\u001b[0;34m,\u001b[0m \u001b[0minput\u001b[0m\u001b[0;34m,\u001b[0m \u001b[0mresult\u001b[0m\u001b[0;34m)\u001b[0m\u001b[0;34m\u001b[0m\u001b[0;34m\u001b[0m\u001b[0m\n",
            "\u001b[0;32m<ipython-input-61-9520e25bbb2e>\u001b[0m in \u001b[0;36mforward\u001b[0;34m(self, x)\u001b[0m\n\u001b[1;32m     13\u001b[0m         \u001b[0;31m# Debugging, bedingte Abzweigungen hier möglich!\u001b[0m\u001b[0;34m\u001b[0m\u001b[0;34m\u001b[0m\u001b[0;34m\u001b[0m\u001b[0m\n\u001b[1;32m     14\u001b[0m \u001b[0;34m\u001b[0m\u001b[0m\n\u001b[0;32m---> 15\u001b[0;31m         \u001b[0mx\u001b[0m \u001b[0;34m=\u001b[0m \u001b[0mself\u001b[0m\u001b[0;34m.\u001b[0m\u001b[0mfc1\u001b[0m\u001b[0;34m(\u001b[0m\u001b[0mx\u001b[0m\u001b[0;34m)\u001b[0m\u001b[0;34m\u001b[0m\u001b[0;34m\u001b[0m\u001b[0m\n\u001b[0m\u001b[1;32m     16\u001b[0m         \u001b[0mx\u001b[0m \u001b[0;34m=\u001b[0m \u001b[0mself\u001b[0m\u001b[0;34m.\u001b[0m\u001b[0mact1\u001b[0m\u001b[0;34m(\u001b[0m\u001b[0mx\u001b[0m\u001b[0;34m)\u001b[0m\u001b[0;34m\u001b[0m\u001b[0;34m\u001b[0m\u001b[0m\n\u001b[1;32m     17\u001b[0m         \u001b[0mx\u001b[0m \u001b[0;34m=\u001b[0m \u001b[0mself\u001b[0m\u001b[0;34m.\u001b[0m\u001b[0mfc2\u001b[0m\u001b[0;34m(\u001b[0m\u001b[0mx\u001b[0m\u001b[0;34m)\u001b[0m\u001b[0;34m\u001b[0m\u001b[0;34m\u001b[0m\u001b[0m\n",
            "\u001b[0;32m/usr/local/lib/python3.6/dist-packages/torch/nn/modules/module.py\u001b[0m in \u001b[0;36m__call__\u001b[0;34m(self, *input, **kwargs)\u001b[0m\n\u001b[1;32m    491\u001b[0m             \u001b[0mresult\u001b[0m \u001b[0;34m=\u001b[0m \u001b[0mself\u001b[0m\u001b[0;34m.\u001b[0m\u001b[0m_slow_forward\u001b[0m\u001b[0;34m(\u001b[0m\u001b[0;34m*\u001b[0m\u001b[0minput\u001b[0m\u001b[0;34m,\u001b[0m \u001b[0;34m**\u001b[0m\u001b[0mkwargs\u001b[0m\u001b[0;34m)\u001b[0m\u001b[0;34m\u001b[0m\u001b[0;34m\u001b[0m\u001b[0m\n\u001b[1;32m    492\u001b[0m         \u001b[0;32melse\u001b[0m\u001b[0;34m:\u001b[0m\u001b[0;34m\u001b[0m\u001b[0;34m\u001b[0m\u001b[0m\n\u001b[0;32m--> 493\u001b[0;31m             \u001b[0mresult\u001b[0m \u001b[0;34m=\u001b[0m \u001b[0mself\u001b[0m\u001b[0;34m.\u001b[0m\u001b[0mforward\u001b[0m\u001b[0;34m(\u001b[0m\u001b[0;34m*\u001b[0m\u001b[0minput\u001b[0m\u001b[0;34m,\u001b[0m \u001b[0;34m**\u001b[0m\u001b[0mkwargs\u001b[0m\u001b[0;34m)\u001b[0m\u001b[0;34m\u001b[0m\u001b[0;34m\u001b[0m\u001b[0m\n\u001b[0m\u001b[1;32m    494\u001b[0m         \u001b[0;32mfor\u001b[0m \u001b[0mhook\u001b[0m \u001b[0;32min\u001b[0m \u001b[0mself\u001b[0m\u001b[0;34m.\u001b[0m\u001b[0m_forward_hooks\u001b[0m\u001b[0;34m.\u001b[0m\u001b[0mvalues\u001b[0m\u001b[0;34m(\u001b[0m\u001b[0;34m)\u001b[0m\u001b[0;34m:\u001b[0m\u001b[0;34m\u001b[0m\u001b[0;34m\u001b[0m\u001b[0m\n\u001b[1;32m    495\u001b[0m             \u001b[0mhook_result\u001b[0m \u001b[0;34m=\u001b[0m \u001b[0mhook\u001b[0m\u001b[0;34m(\u001b[0m\u001b[0mself\u001b[0m\u001b[0;34m,\u001b[0m \u001b[0minput\u001b[0m\u001b[0;34m,\u001b[0m \u001b[0mresult\u001b[0m\u001b[0;34m)\u001b[0m\u001b[0;34m\u001b[0m\u001b[0;34m\u001b[0m\u001b[0m\n",
            "\u001b[0;32m/usr/local/lib/python3.6/dist-packages/torch/nn/modules/linear.py\u001b[0m in \u001b[0;36mforward\u001b[0;34m(self, input)\u001b[0m\n\u001b[1;32m     90\u001b[0m     \u001b[0;34m@\u001b[0m\u001b[0mweak_script_method\u001b[0m\u001b[0;34m\u001b[0m\u001b[0;34m\u001b[0m\u001b[0m\n\u001b[1;32m     91\u001b[0m     \u001b[0;32mdef\u001b[0m \u001b[0mforward\u001b[0m\u001b[0;34m(\u001b[0m\u001b[0mself\u001b[0m\u001b[0;34m,\u001b[0m \u001b[0minput\u001b[0m\u001b[0;34m)\u001b[0m\u001b[0;34m:\u001b[0m\u001b[0;34m\u001b[0m\u001b[0;34m\u001b[0m\u001b[0m\n\u001b[0;32m---> 92\u001b[0;31m         \u001b[0;32mreturn\u001b[0m \u001b[0mF\u001b[0m\u001b[0;34m.\u001b[0m\u001b[0mlinear\u001b[0m\u001b[0;34m(\u001b[0m\u001b[0minput\u001b[0m\u001b[0;34m,\u001b[0m \u001b[0mself\u001b[0m\u001b[0;34m.\u001b[0m\u001b[0mweight\u001b[0m\u001b[0;34m,\u001b[0m \u001b[0mself\u001b[0m\u001b[0;34m.\u001b[0m\u001b[0mbias\u001b[0m\u001b[0;34m)\u001b[0m\u001b[0;34m\u001b[0m\u001b[0;34m\u001b[0m\u001b[0m\n\u001b[0m\u001b[1;32m     93\u001b[0m \u001b[0;34m\u001b[0m\u001b[0m\n\u001b[1;32m     94\u001b[0m     \u001b[0;32mdef\u001b[0m \u001b[0mextra_repr\u001b[0m\u001b[0;34m(\u001b[0m\u001b[0mself\u001b[0m\u001b[0;34m)\u001b[0m\u001b[0;34m:\u001b[0m\u001b[0;34m\u001b[0m\u001b[0;34m\u001b[0m\u001b[0m\n",
            "\u001b[0;32m/usr/local/lib/python3.6/dist-packages/torch/nn/functional.py\u001b[0m in \u001b[0;36mlinear\u001b[0;34m(input, weight, bias)\u001b[0m\n\u001b[1;32m   1406\u001b[0m         \u001b[0mret\u001b[0m \u001b[0;34m=\u001b[0m \u001b[0mtorch\u001b[0m\u001b[0;34m.\u001b[0m\u001b[0maddmm\u001b[0m\u001b[0;34m(\u001b[0m\u001b[0mbias\u001b[0m\u001b[0;34m,\u001b[0m \u001b[0minput\u001b[0m\u001b[0;34m,\u001b[0m \u001b[0mweight\u001b[0m\u001b[0;34m.\u001b[0m\u001b[0mt\u001b[0m\u001b[0;34m(\u001b[0m\u001b[0;34m)\u001b[0m\u001b[0;34m)\u001b[0m\u001b[0;34m\u001b[0m\u001b[0;34m\u001b[0m\u001b[0m\n\u001b[1;32m   1407\u001b[0m     \u001b[0;32melse\u001b[0m\u001b[0;34m:\u001b[0m\u001b[0;34m\u001b[0m\u001b[0;34m\u001b[0m\u001b[0m\n\u001b[0;32m-> 1408\u001b[0;31m         \u001b[0moutput\u001b[0m \u001b[0;34m=\u001b[0m \u001b[0minput\u001b[0m\u001b[0;34m.\u001b[0m\u001b[0mmatmul\u001b[0m\u001b[0;34m(\u001b[0m\u001b[0mweight\u001b[0m\u001b[0;34m.\u001b[0m\u001b[0mt\u001b[0m\u001b[0;34m(\u001b[0m\u001b[0;34m)\u001b[0m\u001b[0;34m)\u001b[0m\u001b[0;34m\u001b[0m\u001b[0;34m\u001b[0m\u001b[0m\n\u001b[0m\u001b[1;32m   1409\u001b[0m         \u001b[0;32mif\u001b[0m \u001b[0mbias\u001b[0m \u001b[0;32mis\u001b[0m \u001b[0;32mnot\u001b[0m \u001b[0;32mNone\u001b[0m\u001b[0;34m:\u001b[0m\u001b[0;34m\u001b[0m\u001b[0;34m\u001b[0m\u001b[0m\n\u001b[1;32m   1410\u001b[0m             \u001b[0moutput\u001b[0m \u001b[0;34m+=\u001b[0m \u001b[0mbias\u001b[0m\u001b[0;34m\u001b[0m\u001b[0;34m\u001b[0m\u001b[0m\n",
            "\u001b[0;31mRuntimeError\u001b[0m: Expected object of backend CUDA but got backend CPU for argument #2 'mat2'"
          ]
        }
      ]
    },
    {
      "cell_type": "code",
      "metadata": {
        "colab_type": "code",
        "id": "jwarRGv1KhH2",
        "colab": {}
      },
      "source": [
        "model.zero_grad()  # setzt all Gradienten auf None\n",
        "for name, param in model.named_parameters():\n",
        "    print(name, param.grad)"
      ],
      "execution_count": 0,
      "outputs": []
    },
    {
      "cell_type": "code",
      "metadata": {
        "colab_type": "code",
        "id": "pt7YqPZrKhH6",
        "colab": {}
      },
      "source": [
        "x_sum = x_out.sum()  # forward Operation\n",
        "x_sum.backward()     # backprop\n",
        "for name, param in model.named_parameters():\n",
        "    print(name, param.grad)"
      ],
      "execution_count": 0,
      "outputs": []
    },
    {
      "cell_type": "markdown",
      "metadata": {
        "colab_type": "text",
        "id": "tP53sdcwKhH8"
      },
      "source": [
        "## Training"
      ]
    },
    {
      "cell_type": "code",
      "metadata": {
        "colab_type": "code",
        "id": "lmkcb5R4KhH9",
        "colab": {}
      },
      "source": [
        "# Let's train a few epochs:\n",
        "device = torch.device(\"cuda\" if torch.cuda.is_available() else \"cpu\")\n",
        "\n",
        "x_in = x_in.to(device)\n",
        "y_true = y_true.to(device)\n",
        "model.to(device)\n",
        "\n",
        "model.eval()\n",
        "model.train()\n",
        "num_epochs = 100\n",
        "for epoch in range(num_epochs): \n",
        "    losses = []  # Speichert Losses aller Batches\n",
        "    for i, x_i in enumerate(x_in):\n",
        "        model.zero_grad()  # Setzt alle Gradienten auf None\n",
        "\n",
        "        x_out = model(x_i)  # do forward pass\n",
        "        loss = loss_function(x_out.view(-1, 2), y_true[i].view(-1))  # calculate loss\n",
        "\n",
        "        # autograd ermittelt den backward Pass.\n",
        "        # Alle Gradienten für die Loss bzgl aller Tensoren mit requires_grad=True.\n",
        "        loss.backward()\n",
        "\n",
        "        # Update der Gewichte mit SGD. \n",
        "        optimizer.step()\n",
        "\n",
        "        losses.append(loss.item())\n",
        "\n",
        "    if epoch % 10 == 0:\n",
        "      print(epoch, np.mean(losses))"
      ],
      "execution_count": 0,
      "outputs": []
    },
    {
      "cell_type": "markdown",
      "metadata": {
        "colab_type": "text",
        "id": "7BgA27tYKhH_"
      },
      "source": [
        "## Predictions"
      ]
    },
    {
      "cell_type": "code",
      "metadata": {
        "colab_type": "code",
        "id": "W2LELgoCKhIA",
        "colab": {}
      },
      "source": [
        "# Vergleiche Predictions und Targets\n",
        "y_true2 = y_true.clone().cpu().numpy()\n",
        "preds = []\n",
        "for i, x_i in enumerate(x_in):\n",
        "  pred = model(x_i)\n",
        "  preds.append(pred.max(-1)[1].item())\n",
        "  print(preds[-1], y_true2[i].item())"
      ],
      "execution_count": 0,
      "outputs": []
    },
    {
      "cell_type": "markdown",
      "metadata": {
        "colab_type": "text",
        "id": "y6ps5-XLKhIC"
      },
      "source": [
        "## Accuracy"
      ]
    },
    {
      "cell_type": "code",
      "metadata": {
        "colab_type": "code",
        "id": "YTXvOyj0KhID",
        "colab": {}
      },
      "source": [
        "# Berechne accuracy\n",
        "print((y_true2 == np.asarray(preds)))\n",
        "print((y_true2 == np.asarray(preds)).sum()/len(y_true2))"
      ],
      "execution_count": 0,
      "outputs": []
    },
    {
      "cell_type": "markdown",
      "metadata": {
        "colab_type": "text",
        "id": "AMyTBTWHKhIF"
      },
      "source": [
        "## Visualisierung"
      ]
    },
    {
      "cell_type": "code",
      "metadata": {
        "colab_type": "code",
        "id": "Zjld2MAcKhIF",
        "colab": {}
      },
      "source": [
        "# Hilfsfunktion zur Visualisierung der Entscheidungsflächen\n",
        "\n",
        "def make_meshgrid(x, y, h=.02):\n",
        "    \"\"\"Create a mesh of points to plot in\n",
        "\n",
        "    Parameters\n",
        "    ----------\n",
        "    x: data to base x-axis meshgrid on\n",
        "    y: data to base y-axis meshgrid on\n",
        "    h: stepsize for meshgrid, optional\n",
        "\n",
        "    Returns\n",
        "    -------\n",
        "    xx, yy : ndarray\n",
        "    \"\"\"\n",
        "    x_min, x_max = x.min() - 1, x.max() + 1\n",
        "    y_min, y_max = y.min() - 1, y.max() + 1\n",
        "    xx, yy = np.meshgrid(np.arange(x_min, x_max, h),\n",
        "                         np.arange(y_min, y_max, h))\n",
        "    return xx, yy\n",
        "\n",
        "\n",
        "def plot_contours(ax, clf, xx, yy, **params):\n",
        "    \"\"\"Plot the decision boundaries for a classifier.\n",
        "\n",
        "    Parameters\n",
        "    ----------\n",
        "    ax: matplotlib axes object\n",
        "    clf: a classifier\n",
        "    xx: meshgrid ndarray\n",
        "    yy: meshgrid ndarray\n",
        "    params: dictionary of params to pass to contourf, optional\n",
        "    \"\"\"\n",
        "    x_in = torch.from_numpy(np.c_[xx.ravel(), yy.ravel()]).float()\n",
        "    #print(x_in.size())\n",
        "    Z = clf(x_in)\n",
        "    Z = Z.max(-1)[1]\n",
        "    Z = Z.detach().numpy().reshape(xx.shape)\n",
        "    out = ax.contourf(xx, yy, Z, **params)\n",
        "    return out"
      ],
      "execution_count": 0,
      "outputs": []
    },
    {
      "cell_type": "code",
      "metadata": {
        "colab_type": "code",
        "id": "bkKPsBhuKhIG",
        "outputId": "57a6a467-100b-4f8e-b8f6-1fca50f1ffe1",
        "colab": {
          "base_uri": "https://localhost:8080/",
          "height": 105
        }
      },
      "source": [
        "# Vorbereitung für die Viz\n",
        "x_in2 = x_in.clone().cpu().numpy()\n",
        "X0, X1 = x_in2[:, 0], x_in2[:, 1]\n",
        "xx, yy = make_meshgrid(X0, X1)\n",
        "\n",
        "model.cpu()  # Prediction auf der CPU laufen lassen"
      ],
      "execution_count": 0,
      "outputs": [
        {
          "output_type": "execute_result",
          "data": {
            "text/plain": [
              "Net(\n",
              "  (fc1): Linear(in_features=2, out_features=6, bias=True)\n",
              "  (act1): Tanh()\n",
              "  (fc2): Linear(in_features=6, out_features=2, bias=True)\n",
              ")"
            ]
          },
          "metadata": {
            "tags": []
          },
          "execution_count": 76
        }
      ]
    },
    {
      "cell_type": "code",
      "metadata": {
        "colab_type": "code",
        "id": "8JjShTd5KhIL",
        "outputId": "a30763c0-18d4-4e8a-ac9e-4507626dd21f",
        "colab": {
          "base_uri": "https://localhost:8080/",
          "height": 457
        }
      },
      "source": [
        "# Plotte Daten und Entscheidungsflächen\n",
        "plot_contours(plt, model, xx, yy, cmap=plt.cm.coolwarm, alpha=0.8)\n",
        "plt.scatter(x_in2[:, 0], x_in2[:, 1], marker='o', c=y_true2, s=25, edgecolor='k', cmap='spring')"
      ],
      "execution_count": 0,
      "outputs": [
        {
          "output_type": "error",
          "ename": "NameError",
          "evalue": "ignored",
          "traceback": [
            "\u001b[0;31m---------------------------------------------------------------------------\u001b[0m",
            "\u001b[0;31mNameError\u001b[0m                                 Traceback (most recent call last)",
            "\u001b[0;32m<ipython-input-77-964b69f0a2a7>\u001b[0m in \u001b[0;36m<module>\u001b[0;34m()\u001b[0m\n\u001b[1;32m      1\u001b[0m \u001b[0mplot_contours\u001b[0m\u001b[0;34m(\u001b[0m\u001b[0mplt\u001b[0m\u001b[0;34m,\u001b[0m \u001b[0mmodel\u001b[0m\u001b[0;34m,\u001b[0m \u001b[0mxx\u001b[0m\u001b[0;34m,\u001b[0m \u001b[0myy\u001b[0m\u001b[0;34m,\u001b[0m \u001b[0mcmap\u001b[0m\u001b[0;34m=\u001b[0m\u001b[0mplt\u001b[0m\u001b[0;34m.\u001b[0m\u001b[0mcm\u001b[0m\u001b[0;34m.\u001b[0m\u001b[0mcoolwarm\u001b[0m\u001b[0;34m,\u001b[0m \u001b[0malpha\u001b[0m\u001b[0;34m=\u001b[0m\u001b[0;36m0.8\u001b[0m\u001b[0;34m)\u001b[0m\u001b[0;34m\u001b[0m\u001b[0;34m\u001b[0m\u001b[0m\n\u001b[0;32m----> 2\u001b[0;31m \u001b[0mplt\u001b[0m\u001b[0;34m.\u001b[0m\u001b[0mscatter\u001b[0m\u001b[0;34m(\u001b[0m\u001b[0mx_in2\u001b[0m\u001b[0;34m[\u001b[0m\u001b[0;34m:\u001b[0m\u001b[0;34m,\u001b[0m \u001b[0;36m0\u001b[0m\u001b[0;34m]\u001b[0m\u001b[0;34m,\u001b[0m \u001b[0mx_in2\u001b[0m\u001b[0;34m[\u001b[0m\u001b[0;34m:\u001b[0m\u001b[0;34m,\u001b[0m \u001b[0;36m1\u001b[0m\u001b[0;34m]\u001b[0m\u001b[0;34m,\u001b[0m \u001b[0mmarker\u001b[0m\u001b[0;34m=\u001b[0m\u001b[0;34m'o'\u001b[0m\u001b[0;34m,\u001b[0m \u001b[0mc\u001b[0m\u001b[0;34m=\u001b[0m\u001b[0my_true2\u001b[0m\u001b[0;34m,\u001b[0m \u001b[0ms\u001b[0m\u001b[0;34m=\u001b[0m\u001b[0;36m25\u001b[0m\u001b[0;34m,\u001b[0m \u001b[0medgecolor\u001b[0m\u001b[0;34m=\u001b[0m\u001b[0;34m'k'\u001b[0m\u001b[0;34m,\u001b[0m \u001b[0mcmap\u001b[0m\u001b[0;34m=\u001b[0m\u001b[0;34m'spring'\u001b[0m\u001b[0;34m)\u001b[0m\u001b[0;34m\u001b[0m\u001b[0;34m\u001b[0m\u001b[0m\n\u001b[0m",
            "\u001b[0;31mNameError\u001b[0m: name 'y_true2' is not defined"
          ]
        },
        {
          "output_type": "display_data",
          "data": {
            "image/png": "[encoded data removed]",
            "text/plain": [
              "<Figure size 432x288 with 1 Axes>"
            ]
          },
          "metadata": {
            "tags": []
          }
        }
      ]
    }
  ]
}