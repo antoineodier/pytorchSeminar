{
  "nbformat": 4,
  "nbformat_minor": 0,
  "metadata": {
    "colab": {
      "name": "06_RNN_de.ipynb",
      "provenance": [],
      "collapsed_sections": [
        "uDA_2pVj_B3I",
        "llrc4vQd5dQQ",
        "bS2JzMYI_B4c",
        "2WNcY2D2Cbui"
      ],
      "include_colab_link": true
    },
    "kernelspec": {
      "name": "python3",
      "display_name": "Python 3"
    },
    "accelerator": "GPU"
  },
  "cells": [
    {
      "cell_type": "markdown",
      "metadata": {
        "id": "view-in-github",
        "colab_type": "text"
      },
      "source": [
        "<a href=\"https://colab.research.google.com/github/antoineodier/pytorchSeminar/blob/master/06_RNN_de.ipynb\" target=\"_parent\"><img src=\"https://colab.research.google.com/assets/colab-badge.svg\" alt=\"Open In Colab\"/></a>"
      ]
    },
    {
      "cell_type": "markdown",
      "metadata": {
        "colab_type": "text",
        "id": "uDA_2pVj_B3I"
      },
      "source": [
        "# Recurrent Neural Networks"
      ]
    },
    {
      "cell_type": "markdown",
      "metadata": {
        "id": "llrc4vQd5dQQ",
        "colab_type": "text"
      },
      "source": [
        "# Prediction der Fibonacci-Reihe\n"
      ]
    },
    {
      "cell_type": "code",
      "metadata": {
        "id": "nI9YcSsI7OuL",
        "colab_type": "code",
        "colab": {}
      },
      "source": [
        "import torch\n",
        "import torch.nn as nn  \n",
        "import torch.nn.functional as F  \n",
        "import torch.optim as optim  \n",
        "\n",
        "def fibo(n): \n",
        "    assert n > 0\n",
        "    assert type(n) == int\n",
        "    if n == 1 or n == 2: \n",
        "        return 1 \n",
        "    return fibo(n-1) + fibo(n-2)\n",
        "\n",
        "def fibo_sequence(start=1, end=2):\n",
        "    return [fibo(n) for n in range(start, end+1, 1)]\n"
      ],
      "execution_count": 0,
      "outputs": []
    },
    {
      "cell_type": "code",
      "metadata": {
        "id": "L2kHKRkg7Z73",
        "colab_type": "code",
        "outputId": "5d7b4f53-3edf-4440-cc88-714168b1bb89",
        "colab": {
          "base_uri": "https://localhost:8080/",
          "height": 51
        }
      },
      "source": [
        "print(fibo(10))\n",
        "\n",
        "fibo_seq = fibo_sequence(3, 7)\n",
        "print(fibo_seq)\n"
      ],
      "execution_count": 0,
      "outputs": [
        {
          "output_type": "stream",
          "text": [
            "55\n",
            "[2, 3, 5, 8, 13]\n"
          ],
          "name": "stdout"
        }
      ]
    },
    {
      "cell_type": "code",
      "metadata": {
        "id": "F-EKFVcH-I9A",
        "colab_type": "code",
        "outputId": "9dbe9552-6c39-4850-a326-9eae61952d61",
        "colab": {
          "base_uri": "https://localhost:8080/",
          "height": 34
        }
      },
      "source": [
        "# Generieren von Daten\n",
        "data = [fibo_sequence(8, 16), fibo_sequence(9, 17), fibo_sequence(2, 10), \n",
        "        fibo_sequence(4, 12), fibo_sequence(1, 9), fibo_sequence(6, 14)]\n",
        "\n",
        "data = torch.tensor(data).float()\n",
        "#print(data)\n",
        "print(data.size())\n"
      ],
      "execution_count": 0,
      "outputs": [
        {
          "output_type": "stream",
          "text": [
            "torch.Size([6, 9])\n"
          ],
          "name": "stdout"
        }
      ]
    },
    {
      "cell_type": "code",
      "metadata": {
        "id": "XHTTn-JqyoQ_",
        "colab_type": "code",
        "outputId": "9c2063f2-f2ec-4034-d73a-e73dfadfe283",
        "colab": {
          "base_uri": "https://localhost:8080/",
          "height": 106
        }
      },
      "source": [
        "data_x = data[:, :-1].t()\n",
        "print(data_x.size())\n",
        "\n",
        "target = torch.tensor(data[:, -1]).float()\n",
        "print(target.size())"
      ],
      "execution_count": 0,
      "outputs": [
        {
          "output_type": "stream",
          "text": [
            "torch.Size([8, 6])\n",
            "torch.Size([6])\n"
          ],
          "name": "stdout"
        },
        {
          "output_type": "stream",
          "text": [
            "/usr/local/lib/python3.6/dist-packages/ipykernel_launcher.py:4: UserWarning: To copy construct from a tensor, it is recommended to use sourceTensor.clone().detach() or sourceTensor.clone().detach().requires_grad_(True), rather than torch.tensor(sourceTensor).\n",
            "  after removing the cwd from sys.path.\n"
          ],
          "name": "stderr"
        }
      ]
    },
    {
      "cell_type": "code",
      "metadata": {
        "id": "zsmrwezZABeA",
        "colab_type": "code",
        "outputId": "e961863b-5111-4019-b67a-5e854fe2ec5a",
        "colab": {
          "base_uri": "https://localhost:8080/",
          "height": 86
        }
      },
      "source": [
        "sequence_length = 8\n",
        "input_size = 1\n",
        "hidden_size = 50\n",
        "batch_size = 6\n",
        "num_layers = 2\n",
        "\n",
        "device = torch.device('cuda:0' if torch.cuda.is_available() else 'cpu')\n",
        "\n",
        "class GRU(nn.Module):\n",
        "    def __init__(self, input_size, hidden_size, num_layers=1):\n",
        "        super(GRU, self).__init__()\n",
        "        self.hidden_size = hidden_size\n",
        "        self.num_layers = num_layers\n",
        "        self.gru = nn.GRU(input_size, hidden_size, num_layers, batch_first=False)\n",
        "        self.fc = nn.Linear(num_layers*hidden_size, 1)\n",
        "    \n",
        "    def forward(self, x):\n",
        "        # Set initial hidden states \n",
        "        h0 = torch.zeros(self.num_layers, x.size(1), self.hidden_size).to(device) \n",
        "        \n",
        "        # Forward Pass\n",
        "        all_hidden, hidden = self.gru(x, h0)  # out: tensor of shape (seq_length, batch_size, hidden_size)\n",
        "        out = self.fc(hidden)\n",
        "        \n",
        "        return out\n",
        "\n",
        "model = GRU(input_size, hidden_size).to(device)\n",
        "print(model)"
      ],
      "execution_count": 0,
      "outputs": [
        {
          "output_type": "stream",
          "text": [
            "GRU(\n",
            "  (gru): GRU(1, 50)\n",
            "  (fc): Linear(in_features=50, out_features=1, bias=True)\n",
            ")\n"
          ],
          "name": "stdout"
        }
      ]
    },
    {
      "cell_type": "code",
      "metadata": {
        "id": "UNFs5I4wBF5u",
        "colab_type": "code",
        "outputId": "bcbf9dd1-fb69-4019-f28e-771a8e4dafee",
        "colab": {
          "base_uri": "https://localhost:8080/",
          "height": 121
        }
      },
      "source": [
        "data_x = data_x.view(sequence_length, batch_size, 1).to(device) # (seq_len, batch_size, encoding_dim)\n",
        "model(data_x) "
      ],
      "execution_count": 0,
      "outputs": [
        {
          "output_type": "execute_result",
          "data": {
            "text/plain": [
              "tensor([[[-0.9975],\n",
              "         [-0.9942],\n",
              "         [-0.6890],\n",
              "         [-0.8584],\n",
              "         [-0.6108],\n",
              "         [-1.0191]]], device='cuda:0', grad_fn=<AddBackward0>)"
            ]
          },
          "metadata": {
            "tags": []
          },
          "execution_count": 11
        }
      ]
    },
    {
      "cell_type": "code",
      "metadata": {
        "id": "CGq6hLNeEB5H",
        "colab_type": "code",
        "outputId": "f7ade7b7-b77d-4a86-ac45-8c1cf0bce856",
        "colab": {
          "base_uri": "https://localhost:8080/",
          "height": 537
        }
      },
      "source": [
        "learning_rate = 0.005\n",
        "num_epochs = 15000\n",
        "\n",
        "criterion = nn.MSELoss()\n",
        "#optimizer = torch.optim.SGD(model.parameters(), lr=learning_rate)\n",
        "optimizer = torch.optim.Adam(model.parameters(), lr=learning_rate)\n",
        "\n",
        "for epoch in range(num_epochs):\n",
        "    outputs = model(data_x.view(sequence_length, batch_size, 1).to(device))\n",
        "    loss = criterion(outputs.view(-1), target.view(-1).to(device))\n",
        "     \n",
        "    optimizer.zero_grad()\n",
        "    loss.backward()\n",
        "    optimizer.step()\n",
        "        \n",
        "    if (epoch+1) % 500 == 0:\n",
        "        print ('Epoch [{}/{}], Loss: {:.4f}'.format(epoch+1, num_epochs, loss.item()))    "
      ],
      "execution_count": 0,
      "outputs": [
        {
          "output_type": "stream",
          "text": [
            "Epoch [500/15000], Loss: 494581.2812\n",
            "Epoch [1000/15000], Loss: 402175.2188\n",
            "Epoch [1500/15000], Loss: 327040.4688\n",
            "Epoch [2000/15000], Loss: 265498.7500\n",
            "Epoch [2500/15000], Loss: 212552.5469\n",
            "Epoch [3000/15000], Loss: 178897.1094\n",
            "Epoch [3500/15000], Loss: 140680.5625\n",
            "Epoch [4000/15000], Loss: 129791.8203\n",
            "Epoch [4500/15000], Loss: 97179.0547\n",
            "Epoch [5000/15000], Loss: 74107.9844\n",
            "Epoch [5500/15000], Loss: 57979.1250\n",
            "Epoch [6000/15000], Loss: 47883.1055\n",
            "Epoch [6500/15000], Loss: 41854.1445\n",
            "Epoch [7000/15000], Loss: 38403.8594\n",
            "Epoch [7500/15000], Loss: 36347.8867\n",
            "Epoch [8000/15000], Loss: 34921.4727\n",
            "Epoch [8500/15000], Loss: 33782.2617\n",
            "Epoch [9000/15000], Loss: 32850.2227\n",
            "Epoch [9500/15000], Loss: 32128.7969\n",
            "Epoch [10000/15000], Loss: 31618.1641\n",
            "Epoch [10500/15000], Loss: 31295.8750\n",
            "Epoch [11000/15000], Loss: 31120.6777\n",
            "Epoch [11500/15000], Loss: 31042.5605\n",
            "Epoch [12000/15000], Loss: 31015.8340\n",
            "Epoch [12500/15000], Loss: 31009.4004\n",
            "Epoch [13000/15000], Loss: 31008.4199\n",
            "Epoch [13500/15000], Loss: 31008.3613\n",
            "Epoch [14000/15000], Loss: 31008.3340\n",
            "Epoch [14500/15000], Loss: 31008.3340\n",
            "Epoch [15000/15000], Loss: 31008.3340\n"
          ],
          "name": "stdout"
        }
      ]
    },
    {
      "cell_type": "code",
      "metadata": {
        "id": "KECsC3aUI8Cc",
        "colab_type": "code",
        "outputId": "c8f1e452-545d-40c8-83cf-5757a41129f9",
        "colab": {
          "base_uri": "https://localhost:8080/",
          "height": 51
        }
      },
      "source": [
        "print(target[2])\n",
        "model(data_x[:, 2].view(sequence_length, 1, 1).to(device))"
      ],
      "execution_count": 0,
      "outputs": [
        {
          "output_type": "stream",
          "text": [
            "tensor(55.)\n"
          ],
          "name": "stdout"
        },
        {
          "output_type": "execute_result",
          "data": {
            "text/plain": [
              "tensor([[[55.0005]]], device='cuda:0', grad_fn=<AddBackward0>)"
            ]
          },
          "metadata": {
            "tags": []
          },
          "execution_count": 13
        }
      ]
    },
    {
      "cell_type": "code",
      "metadata": {
        "id": "rYLAmmZyJfah",
        "colab_type": "code",
        "outputId": "33dc8976-4f7e-4a61-b8f2-48e584e3d04f",
        "colab": {
          "base_uri": "https://localhost:8080/",
          "height": 86
        }
      },
      "source": [
        "test_seq = fibo_sequence(7, 15)\n",
        "print(test_seq)\n",
        "\n",
        "test_x = torch.tensor(test_seq[:-1]).float()\n",
        "print(test_x)\n",
        "\n",
        "test_y = torch.tensor(test_seq[-1]).float()\n",
        "print(test_y)\n",
        "\n",
        "model(test_x.view(sequence_length, 1, 1).to(device))"
      ],
      "execution_count": 0,
      "outputs": [
        {
          "output_type": "stream",
          "text": [
            "[13, 21, 34, 55, 89, 144, 233, 377, 610]\n",
            "tensor([ 13.,  21.,  34.,  55.,  89., 144., 233., 377.])\n",
            "tensor(610.)\n"
          ],
          "name": "stdout"
        },
        {
          "output_type": "execute_result",
          "data": {
            "text/plain": [
              "tensor([[[1291.9989]]], device='cuda:0', grad_fn=<AddBackward0>)"
            ]
          },
          "metadata": {
            "tags": []
          },
          "execution_count": 14
        }
      ]
    },
    {
      "cell_type": "code",
      "metadata": {
        "id": "oNFnm1_6Qian",
        "colab_type": "code",
        "outputId": "ff479263-c25e-41ef-9868-053cdc7ac5fc",
        "colab": {
          "base_uri": "https://localhost:8080/",
          "height": 86
        }
      },
      "source": [
        "test_seq = fibo_sequence(3, 11)\n",
        "print(test_seq)\n",
        "\n",
        "test_x = torch.tensor(test_seq[:-1]).float()\n",
        "print(test_x)\n",
        "\n",
        "test_y = torch.tensor(test_seq[-1]).float()\n",
        "print(test_y)\n",
        "\n",
        "model(test_x.view(sequence_length, 1, 1).to(device))"
      ],
      "execution_count": 0,
      "outputs": [
        {
          "output_type": "stream",
          "text": [
            "[2, 3, 5, 8, 13, 21, 34, 55, 89]\n",
            "tensor([ 2.,  3.,  5.,  8., 13., 21., 34., 55.])\n",
            "tensor(89.)\n"
          ],
          "name": "stdout"
        },
        {
          "output_type": "execute_result",
          "data": {
            "text/plain": [
              "tensor([[[16.0077]]], device='cuda:0', grad_fn=<AddBackward0>)"
            ]
          },
          "metadata": {
            "tags": []
          },
          "execution_count": 15
        }
      ]
    },
    {
      "cell_type": "markdown",
      "metadata": {
        "colab_type": "text",
        "id": "bS2JzMYI_B4c"
      },
      "source": [
        "# Übung: FashionMNIST als Klassification einer Sequenz\n",
        "1. Interpretiere den FashionMNIST Datensatz als sequentiellen Daten: Jeweils bestehend aus einer Sequenz von 28 Reihen mit 28 Features (Spalte). Schreibe dafür ein einfaches Netzwerkmodul aus einem LSTM-Layer, gefolgt von einem Fully-Connected-Layer\n"
      ]
    },
    {
      "cell_type": "code",
      "metadata": {
        "colab_type": "code",
        "id": "BS02MH_T_B4c",
        "outputId": "e0a233dd-0c01-4f0c-a895-ace3d433a0b1",
        "colab": {
          "base_uri": "https://localhost:8080/",
          "height": 214
        }
      },
      "source": [
        "from IPython.display import Image\n",
        "Image('https://i.stack.imgur.com/gC1x7.png', width=500)"
      ],
      "execution_count": 0,
      "outputs": [
        {
          "output_type": "execute_result",
          "data": {
            "image/png": "[encoded data removed]",
            "text/plain": [
              "<IPython.core.display.Image object>"
            ]
          },
          "metadata": {
            "tags": [],
            "image/png": {
              "width": 500
            }
          },
          "execution_count": 18
        }
      ]
    },
    {
      "cell_type": "markdown",
      "metadata": {
        "id": "D5SkOWdIAnCg",
        "colab_type": "text"
      },
      "source": [
        "Benutze folgendes Template:"
      ]
    },
    {
      "cell_type": "code",
      "metadata": {
        "id": "3QihR2lbAiI8",
        "colab_type": "code",
        "colab": {}
      },
      "source": [
        "class LSTM(nn.Module):\n",
        "    def __init__(self, input_size, hidden_size, num_layers, num_classes):\n",
        "        super(LSTM, self).__init__()\n",
        "        # Set hidden size, number of layers, lstm layer and linear output layer \n",
        "    \n",
        "    def forward(self, x):\n",
        "        # Set initial hidden and cell states ho and c0\n",
        "        \n",
        "        # Forward propagate LSTM\n",
        "        # returns tensor of shape (batch_size, seq_length, hidden_size)\n",
        "        \n",
        "        # Decode the hidden state of the last time step\n",
        "        return out"
      ],
      "execution_count": 0,
      "outputs": []
    },
    {
      "cell_type": "markdown",
      "metadata": {
        "id": "EGx9BXA_Ar3W",
        "colab_type": "text"
      },
      "source": [
        "2. Benutze die Trainingsroutine aus den vorherigen Übungen."
      ]
    },
    {
      "cell_type": "markdown",
      "metadata": {
        "colab_type": "text",
        "id": "2WNcY2D2Cbui"
      },
      "source": [
        "## Fashion MNIST Dataset"
      ]
    },
    {
      "cell_type": "code",
      "metadata": {
        "colab_type": "code",
        "id": "mKPeFXg8Cbui",
        "outputId": "e50a1e48-95b5-4a8b-a759-1a50fc49f6c8",
        "colab": {
          "base_uri": "https://localhost:8080/",
          "height": 279
        }
      },
      "source": [
        "import torch\n",
        "from torchvision import datasets, transforms\n",
        "\n",
        "batch_size = 64\n",
        "\n",
        "# Konvertierung zu PyTorch Tensoren\n",
        "transform = transforms.Compose([transforms.ToTensor()])\n",
        "\n",
        "# Download und Laden des Trainingsdatensatzes (60k)\n",
        "trainset = datasets.FashionMNIST('./FashionMNIST/', download=True, train=True, transform=transform)\n",
        "trainloader = torch.utils.data.DataLoader(trainset, batch_size=batch_size, shuffle=True)\n",
        "\n",
        "# Download und Laden des Validationsdatensatzes (10k)\n",
        "validset = datasets.FashionMNIST('./FashionMNIST/', download=True, train=False, transform=transform)\n",
        "validloader = torch.utils.data.DataLoader(validset, batch_size=batch_size, shuffle=True)"
      ],
      "execution_count": 0,
      "outputs": [
        {
          "output_type": "stream",
          "text": [
            "\r0it [00:00, ?it/s]"
          ],
          "name": "stderr"
        },
        {
          "output_type": "stream",
          "text": [
            "Downloading http://fashion-mnist.s3-website.eu-central-1.amazonaws.com/train-images-idx3-ubyte.gz to ./FashionMNIST/FashionMNIST/raw/train-images-idx3-ubyte.gz\n"
          ],
          "name": "stdout"
        },
        {
          "output_type": "stream",
          "text": [
            "26427392it [00:04, 5809272.84it/s]                              \n"
          ],
          "name": "stderr"
        },
        {
          "output_type": "stream",
          "text": [
            "Extracting ./FashionMNIST/FashionMNIST/raw/train-images-idx3-ubyte.gz to ./FashionMNIST/FashionMNIST/raw\n"
          ],
          "name": "stdout"
        },
        {
          "output_type": "stream",
          "text": [
            "\r0it [00:00, ?it/s]"
          ],
          "name": "stderr"
        },
        {
          "output_type": "stream",
          "text": [
            "Downloading http://fashion-mnist.s3-website.eu-central-1.amazonaws.com/train-labels-idx1-ubyte.gz to ./FashionMNIST/FashionMNIST/raw/train-labels-idx1-ubyte.gz\n"
          ],
          "name": "stdout"
        },
        {
          "output_type": "stream",
          "text": [
            "32768it [00:00, 37451.46it/s]                           \n",
            "0it [00:00, ?it/s]"
          ],
          "name": "stderr"
        },
        {
          "output_type": "stream",
          "text": [
            "Extracting ./FashionMNIST/FashionMNIST/raw/train-labels-idx1-ubyte.gz to ./FashionMNIST/FashionMNIST/raw\n",
            "Downloading http://fashion-mnist.s3-website.eu-central-1.amazonaws.com/t10k-images-idx3-ubyte.gz to ./FashionMNIST/FashionMNIST/raw/t10k-images-idx3-ubyte.gz\n"
          ],
          "name": "stdout"
        },
        {
          "output_type": "stream",
          "text": [
            "4423680it [00:02, 1711587.48it/s]                            \n",
            "0it [00:00, ?it/s]"
          ],
          "name": "stderr"
        },
        {
          "output_type": "stream",
          "text": [
            "Extracting ./FashionMNIST/FashionMNIST/raw/t10k-images-idx3-ubyte.gz to ./FashionMNIST/FashionMNIST/raw\n",
            "Downloading http://fashion-mnist.s3-website.eu-central-1.amazonaws.com/t10k-labels-idx1-ubyte.gz to ./FashionMNIST/FashionMNIST/raw/t10k-labels-idx1-ubyte.gz\n"
          ],
          "name": "stdout"
        },
        {
          "output_type": "stream",
          "text": [
            "8192it [00:00, 15310.66it/s]            "
          ],
          "name": "stderr"
        },
        {
          "output_type": "stream",
          "text": [
            "Extracting ./FashionMNIST/FashionMNIST/raw/t10k-labels-idx1-ubyte.gz to ./FashionMNIST/FashionMNIST/raw\n",
            "Processing...\n",
            "Done!\n"
          ],
          "name": "stdout"
        },
        {
          "output_type": "stream",
          "text": [
            "\n"
          ],
          "name": "stderr"
        }
      ]
    }
  ]
}